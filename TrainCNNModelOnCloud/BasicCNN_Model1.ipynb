{
 "cells": [
  {
   "cell_type": "markdown",
   "metadata": {},
   "source": [
    "### Basic Skeleton Version1\n",
    "\n",
    "##### Target:\n",
    "1. Basic Skeleton of Squeeze and excitation model structure\n",
    "\n",
    "##### Results:\n",
    "1. Parameters: 13832\n",
    "2. Best Train Accuracy: 99.16%\n",
    "3. Best Test Accuracy: 98.63%\n",
    "\n",
    "##### Analysis:\n",
    "1. Model is having way more parameters than the requirement of less than 8000 parameters.\n",
    "2. Model is overfitting.\n",
    "3. Need to make a lighter model."
   ]
  },
  {
   "cell_type": "markdown",
   "metadata": {
    "id": "0SILmUE3nxPg"
   },
   "source": [
    "### import Libraries"
   ]
  },
  {
   "cell_type": "code",
   "execution_count": 2,
   "metadata": {
    "executionInfo": {
     "elapsed": 848,
     "status": "ok",
     "timestamp": 1733714584617,
     "user": {
      "displayName": "Ezhirko Arulmozhi",
      "userId": "16774972310128518178"
     },
     "user_tz": -330
    },
    "id": "zMTnH-40mJec"
   },
   "outputs": [],
   "source": [
    "import torch\n",
    "import torch.nn as nn\n",
    "import torch.nn.functional as F\n",
    "import torch.optim as optim\n",
    "from torchvision import datasets, transforms\n",
    "%matplotlib inline\n",
    "import matplotlib.pyplot as plt"
   ]
  },
  {
   "cell_type": "markdown",
   "metadata": {
    "id": "E0BsgUAet8jt"
   },
   "source": [
    "### Data Statics"
   ]
  },
  {
   "cell_type": "code",
   "execution_count": 3,
   "metadata": {
    "colab": {
     "base_uri": "https://localhost:8080/"
    },
    "executionInfo": {
     "elapsed": 888,
     "status": "ok",
     "timestamp": 1733714586315,
     "user": {
      "displayName": "Ezhirko Arulmozhi",
      "userId": "16774972310128518178"
     },
     "user_tz": -330
    },
    "id": "-zk2YraduAEa",
    "outputId": "e1847088-178d-4be2-f7d9-12806aa9e13d"
   },
   "outputs": [
    {
     "name": "stdout",
     "output_type": "stream",
     "text": [
      "Downloading http://yann.lecun.com/exdb/mnist/train-images-idx3-ubyte.gz\n",
      "Failed to download (trying next):\n",
      "HTTP Error 403: Forbidden\n",
      "\n",
      "Downloading https://ossci-datasets.s3.amazonaws.com/mnist/train-images-idx3-ubyte.gz\n",
      "Downloading https://ossci-datasets.s3.amazonaws.com/mnist/train-images-idx3-ubyte.gz to ./data/MNIST/raw/train-images-idx3-ubyte.gz\n"
     ]
    },
    {
     "name": "stderr",
     "output_type": "stream",
     "text": [
      "100%|██████████| 9.91M/9.91M [00:01<00:00, 5.34MB/s]\n"
     ]
    },
    {
     "name": "stdout",
     "output_type": "stream",
     "text": [
      "Extracting ./data/MNIST/raw/train-images-idx3-ubyte.gz to ./data/MNIST/raw\n",
      "\n",
      "Downloading http://yann.lecun.com/exdb/mnist/train-labels-idx1-ubyte.gz\n",
      "Failed to download (trying next):\n",
      "HTTP Error 403: Forbidden\n",
      "\n",
      "Downloading https://ossci-datasets.s3.amazonaws.com/mnist/train-labels-idx1-ubyte.gz\n",
      "Downloading https://ossci-datasets.s3.amazonaws.com/mnist/train-labels-idx1-ubyte.gz to ./data/MNIST/raw/train-labels-idx1-ubyte.gz\n"
     ]
    },
    {
     "name": "stderr",
     "output_type": "stream",
     "text": [
      "100%|██████████| 28.9k/28.9k [00:00<00:00, 157kB/s]\n"
     ]
    },
    {
     "name": "stdout",
     "output_type": "stream",
     "text": [
      "Extracting ./data/MNIST/raw/train-labels-idx1-ubyte.gz to ./data/MNIST/raw\n",
      "\n",
      "Downloading http://yann.lecun.com/exdb/mnist/t10k-images-idx3-ubyte.gz\n",
      "Failed to download (trying next):\n",
      "HTTP Error 403: Forbidden\n",
      "\n",
      "Downloading https://ossci-datasets.s3.amazonaws.com/mnist/t10k-images-idx3-ubyte.gz\n",
      "Downloading https://ossci-datasets.s3.amazonaws.com/mnist/t10k-images-idx3-ubyte.gz to ./data/MNIST/raw/t10k-images-idx3-ubyte.gz\n"
     ]
    },
    {
     "name": "stderr",
     "output_type": "stream",
     "text": [
      "100%|██████████| 1.65M/1.65M [00:01<00:00, 1.22MB/s]\n"
     ]
    },
    {
     "name": "stdout",
     "output_type": "stream",
     "text": [
      "Extracting ./data/MNIST/raw/t10k-images-idx3-ubyte.gz to ./data/MNIST/raw\n",
      "\n",
      "Downloading http://yann.lecun.com/exdb/mnist/t10k-labels-idx1-ubyte.gz\n",
      "Failed to download (trying next):\n",
      "HTTP Error 403: Forbidden\n",
      "\n",
      "Downloading https://ossci-datasets.s3.amazonaws.com/mnist/t10k-labels-idx1-ubyte.gz\n",
      "Downloading https://ossci-datasets.s3.amazonaws.com/mnist/t10k-labels-idx1-ubyte.gz to ./data/MNIST/raw/t10k-labels-idx1-ubyte.gz\n"
     ]
    },
    {
     "name": "stderr",
     "output_type": "stream",
     "text": [
      "100%|██████████| 4.54k/4.54k [00:00<00:00, 3.55MB/s]\n"
     ]
    },
    {
     "name": "stdout",
     "output_type": "stream",
     "text": [
      "Extracting ./data/MNIST/raw/t10k-labels-idx1-ubyte.gz to ./data/MNIST/raw\n",
      "\n"
     ]
    },
    {
     "name": "stderr",
     "output_type": "stream",
     "text": [
      "/opt/conda/envs/pytorch/lib/python3.11/site-packages/torchvision/datasets/mnist.py:76: UserWarning: train_data has been renamed data\n",
      "  warnings.warn(\"train_data has been renamed data\")\n"
     ]
    },
    {
     "name": "stdout",
     "output_type": "stream",
     "text": [
      "[Train]\n",
      "-Numpy Shape: (60000, 28, 28)\n",
      "-Tensor Shape: torch.Size([60000, 28, 28])\n",
      "-min: tensor(0.)\n",
      "-max: tensor(1.)\n",
      "-mean: tensor(0.1307)\n",
      "-std: tensor(0.3081)\n",
      "-var: tensor(0.0949)\n"
     ]
    }
   ],
   "source": [
    "simple_transforms = transforms.Compose([transforms.ToTensor()])\n",
    "dataset = datasets.MNIST('./data',train = True,transform=simple_transforms,download=True)\n",
    "exp_data = dataset.train_data\n",
    "exp_data = dataset.transform(exp_data.numpy())\n",
    "\n",
    "print('[Train]')\n",
    "print('-Numpy Shape:',dataset.train_data.cpu().numpy().shape)\n",
    "print('-Tensor Shape:',dataset.train_data.size())\n",
    "print('-min:',torch.min(exp_data))\n",
    "print('-max:',torch.max(exp_data))\n",
    "print('-mean:',torch.mean(exp_data))\n",
    "print('-std:',torch.std(exp_data))\n",
    "print('-var:',torch.var(exp_data))"
   ]
  },
  {
   "cell_type": "markdown",
   "metadata": {
    "id": "xAOly4BYn73P"
   },
   "source": [
    " ### Data Transformation\n",
    "\n",
    " We first start with defining our data transformations. We need to think what our data is and how can we augment it to correct represent images which it might not see otherwise."
   ]
  },
  {
   "cell_type": "code",
   "execution_count": 4,
   "metadata": {
    "executionInfo": {
     "elapsed": 4,
     "status": "ok",
     "timestamp": 1733714586315,
     "user": {
      "displayName": "Ezhirko Arulmozhi",
      "userId": "16774972310128518178"
     },
     "user_tz": -330
    },
    "id": "-J4agwvEmuY2"
   },
   "outputs": [],
   "source": [
    "train_transforms = transforms.Compose(\n",
    "    [transforms.ToTensor(),\n",
    "     transforms.Normalize((0.1307,), (0.3081,))\n",
    "     ]\n",
    ")\n",
    "test_transforms = transforms.Compose(\n",
    "    [\n",
    "        transforms.ToTensor(),\n",
    "        transforms.Normalize((0.1307,), (0.3081,))\n",
    "    ]\n",
    ")"
   ]
  },
  {
   "cell_type": "markdown",
   "metadata": {
    "id": "P-bJYKnUzOHC"
   },
   "source": [
    "### Create Train and Test Data"
   ]
  },
  {
   "cell_type": "code",
   "execution_count": 5,
   "metadata": {
    "executionInfo": {
     "elapsed": 4,
     "status": "ok",
     "timestamp": 1733714586315,
     "user": {
      "displayName": "Ezhirko Arulmozhi",
      "userId": "16774972310128518178"
     },
     "user_tz": -330
    },
    "id": "HFlTYrDpn4eP"
   },
   "outputs": [],
   "source": [
    "train = datasets.MNIST('./data',train=True,transform=train_transforms)\n",
    "test = datasets.MNIST('./data',train=False,transform=train_transforms)"
   ]
  },
  {
   "cell_type": "markdown",
   "metadata": {
    "id": "2JvnZYVM1G4f"
   },
   "source": [
    "### Dataloader Arguments"
   ]
  },
  {
   "cell_type": "code",
   "execution_count": 6,
   "metadata": {
    "colab": {
     "base_uri": "https://localhost:8080/"
    },
    "executionInfo": {
     "elapsed": 5,
     "status": "ok",
     "timestamp": 1733714586316,
     "user": {
      "displayName": "Ezhirko Arulmozhi",
      "userId": "16774972310128518178"
     },
     "user_tz": -330
    },
    "id": "OyUHi0HTzcU5",
    "outputId": "c6feea6c-6bc2-4c20-bb75-7bdbd2309bd5"
   },
   "outputs": [
    {
     "name": "stdout",
     "output_type": "stream",
     "text": [
      "CUDA Available ?: True\n"
     ]
    }
   ],
   "source": [
    "SEED = 1\n",
    "cuda = torch.cuda.is_available()\n",
    "print(\"CUDA Available ?:\",cuda)\n",
    "\n",
    "torch.manual_seed(SEED)\n",
    "if cuda:\n",
    "  torch.cuda.manual_seed(SEED)\n",
    "\n",
    "dataloader_args = dict(shuffle=True, batch_size=128, num_workers=4,pin_memory=True) if cuda else dict(shuffle=True,batch_size = 64)\n",
    "\n",
    "train_loader = torch.utils.data.DataLoader(train, **dataloader_args)\n",
    "test_loader = torch.utils.data.DataLoader(test, **dataloader_args)"
   ]
  },
  {
   "cell_type": "markdown",
   "metadata": {
    "id": "Q7TBKF_I3Eap"
   },
   "source": [
    "### The Model Architecture"
   ]
  },
  {
   "cell_type": "code",
   "execution_count": 7,
   "metadata": {
    "executionInfo": {
     "elapsed": 4,
     "status": "ok",
     "timestamp": 1733714586316,
     "user": {
      "displayName": "Ezhirko Arulmozhi",
      "userId": "16774972310128518178"
     },
     "user_tz": -330
    },
    "id": "KNhvelc02UkN"
   },
   "outputs": [],
   "source": [
    "class Net(nn.Module):\n",
    "  def __init__(self):\n",
    "    super(Net, self).__init__()\n",
    "    #Input Block\n",
    "    self.convblock1 = nn.Sequential(\n",
    "        nn.Conv2d(in_channels=1,out_channels=8,kernel_size=(3,3),padding=0,bias=False),\n",
    "        nn.ReLU()\n",
    "    ) #Input size = 28, Output Size = 26, RFout = 3\n",
    "\n",
    "    #Convolution Block 1\n",
    "    self.convblock2 = nn.Sequential(\n",
    "        nn.Conv2d(in_channels=8, out_channels=16,kernel_size=(3,3),padding=0,bias=False),\n",
    "        nn.ReLU()\n",
    "    ) #Input size = 26, Output Size = 24, RFout = 5\n",
    "\n",
    "    #Transition Block 1\n",
    "    self.pool1 = nn.MaxPool2d(2,2) #Input size = 24, Output Size = 12, RFout = 6\n",
    "    self.convblock3 = nn.Sequential(\n",
    "        nn.Conv2d(in_channels=16, out_channels=8,kernel_size=(1,1),padding=0,bias=False),\n",
    "        nn.ReLU()\n",
    "    )#Input size = 12, Output Size = 12, RFout = 6\n",
    "\n",
    "    #Convolution Block 2\n",
    "    self.convblock4 = nn.Sequential(\n",
    "        nn.Conv2d(in_channels=8,out_channels=16,kernel_size=(3,3),padding=0,bias=False),\n",
    "        nn.ReLU()\n",
    "    )#Input size = 12, Output Size = 10, RFout = 10\n",
    "    self.convblock5 = nn.Sequential(\n",
    "        nn.Conv2d(in_channels=16,out_channels=32,kernel_size=(3,3),padding=0,bias=False),\n",
    "        nn.ReLU()\n",
    "    )#Input size = 10, Output Size = 8, RFout = 14\n",
    "\n",
    "    #Output block\n",
    "    self.convblock6 = nn.Sequential(\n",
    "        nn.Conv2d(in_channels=32,out_channels=10,kernel_size=(1,1),padding=0,bias=False),\n",
    "        nn.ReLU()\n",
    "    )#Input size = 8, Output Size = 8, RFout = 14\n",
    "    self.convblock7 = nn.Sequential(\n",
    "        nn.Conv2d(in_channels=10,out_channels=10,kernel_size=(8,8),padding=0,bias=False),\n",
    "    )#Input size = 8, Output Size = 1, RFout = 28\n",
    "\n",
    "  def forward(self,x):\n",
    "    x = self.convblock1(x)\n",
    "    x = self.convblock2(x)\n",
    "    x = self.pool1(x)\n",
    "    x = self.convblock3(x)\n",
    "    x = self.convblock4(x)\n",
    "    x = self.convblock5(x)\n",
    "    x = self.convblock6(x)\n",
    "    x = self.convblock7(x)\n",
    "    x = x.view(-1,10)\n",
    "    return F.log_softmax(x,dim=-1)\n",
    "\n"
   ]
  },
  {
   "cell_type": "markdown",
   "metadata": {
    "id": "QSub2kArMxju"
   },
   "source": [
    "### Check the model parameters"
   ]
  },
  {
   "cell_type": "code",
   "execution_count": 8,
   "metadata": {
    "colab": {
     "base_uri": "https://localhost:8080/"
    },
    "executionInfo": {
     "elapsed": 2696,
     "status": "ok",
     "timestamp": 1733714589009,
     "user": {
      "displayName": "Ezhirko Arulmozhi",
      "userId": "16774972310128518178"
     },
     "user_tz": -330
    },
    "id": "ARJl7Sbn8oXY",
    "outputId": "d4f76cea-b7dd-449b-efc8-cbd529e0094e"
   },
   "outputs": [
    {
     "name": "stdout",
     "output_type": "stream",
     "text": [
      "Collecting torchsummary\n",
      "  Downloading torchsummary-1.5.1-py3-none-any.whl.metadata (296 bytes)\n",
      "Downloading torchsummary-1.5.1-py3-none-any.whl (2.8 kB)\n",
      "Installing collected packages: torchsummary\n",
      "Successfully installed torchsummary-1.5.1\n",
      "cuda\n",
      "----------------------------------------------------------------\n",
      "        Layer (type)               Output Shape         Param #\n",
      "================================================================\n",
      "            Conv2d-1            [-1, 8, 26, 26]              72\n",
      "              ReLU-2            [-1, 8, 26, 26]               0\n",
      "            Conv2d-3           [-1, 16, 24, 24]           1,152\n",
      "              ReLU-4           [-1, 16, 24, 24]               0\n",
      "         MaxPool2d-5           [-1, 16, 12, 12]               0\n",
      "            Conv2d-6            [-1, 8, 12, 12]             128\n",
      "              ReLU-7            [-1, 8, 12, 12]               0\n",
      "            Conv2d-8           [-1, 16, 10, 10]           1,152\n",
      "              ReLU-9           [-1, 16, 10, 10]               0\n",
      "           Conv2d-10             [-1, 32, 8, 8]           4,608\n",
      "             ReLU-11             [-1, 32, 8, 8]               0\n",
      "           Conv2d-12             [-1, 10, 8, 8]             320\n",
      "             ReLU-13             [-1, 10, 8, 8]               0\n",
      "           Conv2d-14             [-1, 10, 1, 1]           6,400\n",
      "================================================================\n",
      "Total params: 13,832\n",
      "Trainable params: 13,832\n",
      "Non-trainable params: 0\n",
      "----------------------------------------------------------------\n",
      "Input size (MB): 0.00\n",
      "Forward/backward pass size (MB): 0.32\n",
      "Params size (MB): 0.05\n",
      "Estimated Total Size (MB): 0.38\n",
      "----------------------------------------------------------------\n"
     ]
    }
   ],
   "source": [
    "!pip install torchsummary\n",
    "from torchsummary import summary\n",
    "\n",
    "use_cuda = torch.cuda.is_available()\n",
    "device = torch.device(\"cuda\" if use_cuda else \"cpu\")\n",
    "print(device)\n",
    "model = Net().to(device)\n",
    "summary(model, input_size=(1, 28, 28))"
   ]
  },
  {
   "cell_type": "markdown",
   "metadata": {
    "id": "wa4uooegN21Z"
   },
   "source": [
    "Training and Testing"
   ]
  },
  {
   "cell_type": "code",
   "execution_count": 9,
   "metadata": {
    "executionInfo": {
     "elapsed": 5,
     "status": "ok",
     "timestamp": 1733714589009,
     "user": {
      "displayName": "Ezhirko Arulmozhi",
      "userId": "16774972310128518178"
     },
     "user_tz": -330
    },
    "id": "dUX1T9zeNqIF"
   },
   "outputs": [],
   "source": [
    "from tqdm import tqdm\n",
    "\n",
    "train_losses = []\n",
    "test_losses = []\n",
    "train_acc = []\n",
    "test_acc = []\n",
    "\n",
    "def train(model, device, train_loader, optimizer, epoch):\n",
    "  model.train()\n",
    "  pbar = tqdm(train_loader)\n",
    "  correct = 0\n",
    "  processed = 0\n",
    "  for batch_idx, (data, target) in enumerate(pbar):\n",
    "    # get samples\n",
    "    data, target = data.to(device), target.to(device)\n",
    "\n",
    "    # Init\n",
    "    optimizer.zero_grad()\n",
    "    # In PyTorch, we need to set the gradients to zero before starting to do backpropragation because PyTorch accumulates the gradients on subsequent backward passes.\n",
    "    # Because of this, when you start your training loop, ideally you should zero out the gradients so that you do the parameter update correctly.\n",
    "\n",
    "    # Predict\n",
    "    y_pred = model(data)\n",
    "\n",
    "    # Calculate loss\n",
    "    loss = F.nll_loss(y_pred, target)\n",
    "    train_losses.append(loss)\n",
    "\n",
    "    # Backpropagation\n",
    "    loss.backward()\n",
    "    optimizer.step()\n",
    "\n",
    "    # Update pbar-tqdm\n",
    "\n",
    "    pred = y_pred.argmax(dim=1, keepdim=True)  # get the index of the max log-probability\n",
    "    correct += pred.eq(target.view_as(pred)).sum().item()\n",
    "    processed += len(data)\n",
    "\n",
    "    pbar.set_description(desc= f'Loss={loss.item()} Batch_id={batch_idx} Accuracy={100*correct/processed:0.2f}')\n",
    "    train_acc.append(100*correct/processed)\n",
    "\n",
    "def test(model, device, test_loader):\n",
    "    model.eval()\n",
    "    test_loss = 0\n",
    "    correct = 0\n",
    "    with torch.no_grad():\n",
    "        for data, target in test_loader:\n",
    "            data, target = data.to(device), target.to(device)\n",
    "            output = model(data)\n",
    "            test_loss += F.nll_loss(output, target, reduction='sum').item()  # sum up batch loss\n",
    "            pred = output.argmax(dim=1, keepdim=True)  # get the index of the max log-probability\n",
    "            correct += pred.eq(target.view_as(pred)).sum().item()\n",
    "\n",
    "    test_loss /= len(test_loader.dataset)\n",
    "    test_losses.append(test_loss)\n",
    "\n",
    "    print('\\nTest set: Average loss: {:.4f}, Accuracy: {}/{} ({:.2f}%)\\n'.format(\n",
    "        test_loss, correct, len(test_loader.dataset),\n",
    "        100. * correct / len(test_loader.dataset)))\n",
    "\n",
    "    test_acc.append(100. * correct / len(test_loader.dataset))"
   ]
  },
  {
   "cell_type": "markdown",
   "metadata": {
    "id": "ZvKr_1eoX8l6"
   },
   "source": [
    "### Train the Model"
   ]
  },
  {
   "cell_type": "code",
   "execution_count": 10,
   "metadata": {
    "colab": {
     "base_uri": "https://localhost:8080/"
    },
    "executionInfo": {
     "elapsed": 277331,
     "status": "ok",
     "timestamp": 1733714866335,
     "user": {
      "displayName": "Ezhirko Arulmozhi",
      "userId": "16774972310128518178"
     },
     "user_tz": -330
    },
    "id": "LVUzruafYCPK",
    "outputId": "10ce578a-8f0e-4edb-82a8-d6a838d3d8e0"
   },
   "outputs": [
    {
     "name": "stdout",
     "output_type": "stream",
     "text": [
      "EPOCH: 0\n"
     ]
    },
    {
     "name": "stderr",
     "output_type": "stream",
     "text": [
      "  0%|          | 0/469 [00:00<?, ?it/s]"
     ]
    },
    {
     "name": "stderr",
     "output_type": "stream",
     "text": [
      "Loss=0.23236404359340668 Batch_id=468 Accuracy=53.11: 100%|██████████| 469/469 [00:05<00:00, 85.58it/s] \n"
     ]
    },
    {
     "name": "stdout",
     "output_type": "stream",
     "text": [
      "\n",
      "Test set: Average loss: 0.2194, Accuracy: 9354/10000 (93.54%)\n",
      "\n",
      "EPOCH: 1\n"
     ]
    },
    {
     "name": "stderr",
     "output_type": "stream",
     "text": [
      "Loss=0.16079628467559814 Batch_id=468 Accuracy=95.30: 100%|██████████| 469/469 [00:04<00:00, 116.27it/s] \n"
     ]
    },
    {
     "name": "stdout",
     "output_type": "stream",
     "text": [
      "\n",
      "Test set: Average loss: 0.1334, Accuracy: 9584/10000 (95.84%)\n",
      "\n",
      "EPOCH: 2\n"
     ]
    },
    {
     "name": "stderr",
     "output_type": "stream",
     "text": [
      "Loss=0.24850022792816162 Batch_id=468 Accuracy=97.10: 100%|██████████| 469/469 [00:04<00:00, 116.36it/s] \n"
     ]
    },
    {
     "name": "stdout",
     "output_type": "stream",
     "text": [
      "\n",
      "Test set: Average loss: 0.0766, Accuracy: 9759/10000 (97.59%)\n",
      "\n",
      "EPOCH: 3\n"
     ]
    },
    {
     "name": "stderr",
     "output_type": "stream",
     "text": [
      "Loss=0.045844774693250656 Batch_id=468 Accuracy=97.71: 100%|██████████| 469/469 [00:04<00:00, 115.34it/s]\n"
     ]
    },
    {
     "name": "stdout",
     "output_type": "stream",
     "text": [
      "\n",
      "Test set: Average loss: 0.0643, Accuracy: 9802/10000 (98.02%)\n",
      "\n",
      "EPOCH: 4\n"
     ]
    },
    {
     "name": "stderr",
     "output_type": "stream",
     "text": [
      "Loss=0.03028869442641735 Batch_id=468 Accuracy=98.02: 100%|██████████| 469/469 [00:04<00:00, 117.13it/s] \n"
     ]
    },
    {
     "name": "stdout",
     "output_type": "stream",
     "text": [
      "\n",
      "Test set: Average loss: 0.0604, Accuracy: 9809/10000 (98.09%)\n",
      "\n",
      "EPOCH: 5\n"
     ]
    },
    {
     "name": "stderr",
     "output_type": "stream",
     "text": [
      "Loss=0.0779225081205368 Batch_id=468 Accuracy=98.26: 100%|██████████| 469/469 [00:04<00:00, 114.15it/s]   \n"
     ]
    },
    {
     "name": "stdout",
     "output_type": "stream",
     "text": [
      "\n",
      "Test set: Average loss: 0.0564, Accuracy: 9831/10000 (98.31%)\n",
      "\n",
      "EPOCH: 6\n"
     ]
    },
    {
     "name": "stderr",
     "output_type": "stream",
     "text": [
      "Loss=0.05981406569480896 Batch_id=468 Accuracy=98.42: 100%|██████████| 469/469 [00:04<00:00, 116.46it/s]  \n"
     ]
    },
    {
     "name": "stdout",
     "output_type": "stream",
     "text": [
      "\n",
      "Test set: Average loss: 0.0523, Accuracy: 9827/10000 (98.27%)\n",
      "\n",
      "EPOCH: 7\n"
     ]
    },
    {
     "name": "stderr",
     "output_type": "stream",
     "text": [
      "Loss=0.04746759310364723 Batch_id=468 Accuracy=98.56: 100%|██████████| 469/469 [00:04<00:00, 115.40it/s]  \n"
     ]
    },
    {
     "name": "stdout",
     "output_type": "stream",
     "text": [
      "\n",
      "Test set: Average loss: 0.0488, Accuracy: 9837/10000 (98.37%)\n",
      "\n",
      "EPOCH: 8\n"
     ]
    },
    {
     "name": "stderr",
     "output_type": "stream",
     "text": [
      "Loss=0.054197367280721664 Batch_id=468 Accuracy=98.68: 100%|██████████| 469/469 [00:04<00:00, 116.33it/s] \n"
     ]
    },
    {
     "name": "stdout",
     "output_type": "stream",
     "text": [
      "\n",
      "Test set: Average loss: 0.0458, Accuracy: 9845/10000 (98.45%)\n",
      "\n",
      "EPOCH: 9\n"
     ]
    },
    {
     "name": "stderr",
     "output_type": "stream",
     "text": [
      "Loss=0.006058415398001671 Batch_id=468 Accuracy=98.80: 100%|██████████| 469/469 [00:04<00:00, 115.89it/s] \n"
     ]
    },
    {
     "name": "stdout",
     "output_type": "stream",
     "text": [
      "\n",
      "Test set: Average loss: 0.0450, Accuracy: 9843/10000 (98.43%)\n",
      "\n",
      "EPOCH: 10\n"
     ]
    },
    {
     "name": "stderr",
     "output_type": "stream",
     "text": [
      "Loss=0.009970917366445065 Batch_id=468 Accuracy=98.89: 100%|██████████| 469/469 [00:03<00:00, 118.25it/s] \n"
     ]
    },
    {
     "name": "stdout",
     "output_type": "stream",
     "text": [
      "\n",
      "Test set: Average loss: 0.0450, Accuracy: 9857/10000 (98.57%)\n",
      "\n",
      "EPOCH: 11\n"
     ]
    },
    {
     "name": "stderr",
     "output_type": "stream",
     "text": [
      "Loss=0.025905972346663475 Batch_id=468 Accuracy=98.94: 100%|██████████| 469/469 [00:03<00:00, 117.72it/s] \n"
     ]
    },
    {
     "name": "stdout",
     "output_type": "stream",
     "text": [
      "\n",
      "Test set: Average loss: 0.0415, Accuracy: 9858/10000 (98.58%)\n",
      "\n",
      "EPOCH: 12\n"
     ]
    },
    {
     "name": "stderr",
     "output_type": "stream",
     "text": [
      "Loss=0.06487584114074707 Batch_id=468 Accuracy=99.02: 100%|██████████| 469/469 [00:04<00:00, 115.38it/s]  \n"
     ]
    },
    {
     "name": "stdout",
     "output_type": "stream",
     "text": [
      "\n",
      "Test set: Average loss: 0.0451, Accuracy: 9862/10000 (98.62%)\n",
      "\n",
      "EPOCH: 13\n"
     ]
    },
    {
     "name": "stderr",
     "output_type": "stream",
     "text": [
      "Loss=0.02446831949055195 Batch_id=468 Accuracy=98.98: 100%|██████████| 469/469 [00:04<00:00, 114.33it/s]  \n"
     ]
    },
    {
     "name": "stdout",
     "output_type": "stream",
     "text": [
      "\n",
      "Test set: Average loss: 0.0425, Accuracy: 9863/10000 (98.63%)\n",
      "\n",
      "EPOCH: 14\n"
     ]
    },
    {
     "name": "stderr",
     "output_type": "stream",
     "text": [
      "Loss=0.035337746143341064 Batch_id=468 Accuracy=99.16: 100%|██████████| 469/469 [00:04<00:00, 116.52it/s] \n"
     ]
    },
    {
     "name": "stdout",
     "output_type": "stream",
     "text": [
      "\n",
      "Test set: Average loss: 0.0420, Accuracy: 9863/10000 (98.63%)\n",
      "\n"
     ]
    }
   ],
   "source": [
    "model = Net().to(device)\n",
    "optimizer = optim.SGD(model.parameters(),lr=0.01,momentum=0.9)\n",
    "EPOCHS = 15\n",
    "for epoch in range(EPOCHS):\n",
    "  print(\"EPOCH:\",epoch)\n",
    "  train(model, device,train_loader,optimizer,epoch)\n",
    "  test(model,device,test_loader)"
   ]
  },
  {
   "cell_type": "markdown",
   "metadata": {
    "id": "f-70Ru1uZNOX"
   },
   "source": [
    "### Loss and Accuracy Plot"
   ]
  },
  {
   "cell_type": "code",
   "execution_count": 11,
   "metadata": {
    "colab": {
     "base_uri": "https://localhost:8080/",
     "height": 817
    },
    "executionInfo": {
     "elapsed": 2446,
     "status": "ok",
     "timestamp": 1733716411961,
     "user": {
      "displayName": "Ezhirko Arulmozhi",
      "userId": "16774972310128518178"
     },
     "user_tz": -330
    },
    "id": "koHtryGtZMjh",
    "outputId": "603da2d9-6151-4024-eda6-95c72131ac0e"
   },
   "outputs": [
    {
     "data": {
      "text/plain": [
       "Text(0.5, 1.0, 'Test Accuracy')"
      ]
     },
     "execution_count": 11,
     "metadata": {},
     "output_type": "execute_result"
    },
    {
     "data": {
      "image/png": "[encoded data removed]",
      "text/plain": [
       "<Figure size 1500x1000 with 4 Axes>"
      ]
     },
     "metadata": {},
     "output_type": "display_data"
    }
   ],
   "source": [
    "fig, axs = plt.subplots(2,2,figsize=(15,10))\n",
    "# Move tensors to CPU and convert to NumPy\n",
    "train_losses_cpu = [loss.cpu().item() if torch.is_tensor(loss) else loss for loss in train_losses]\n",
    "train_acc_cpu = [acc.cpu().item() if torch.is_tensor(acc) else acc for acc in train_acc]\n",
    "test_losses_cpu = [loss.cpu().item() if torch.is_tensor(loss) else loss for loss in test_losses]\n",
    "test_acc_cpu = [acc.cpu().item() if torch.is_tensor(acc) else acc for acc in test_acc]\n",
    "\n",
    "axs[0, 0].plot(train_losses_cpu)\n",
    "axs[0, 0].set_title(\"Training Loss\")\n",
    "axs[1, 0].plot(train_acc_cpu)\n",
    "axs[1, 0].set_title(\"Training Accuracy\")\n",
    "axs[0, 1].plot(test_losses_cpu)\n",
    "axs[0, 1].set_title(\"Test Loss\")\n",
    "axs[1, 1].plot(test_acc_cpu)\n",
    "axs[1, 1].set_title(\"Test Accuracy\")"
   ]
  }
 ],
 "metadata": {
  "accelerator": "GPU",
  "colab": {
   "authorship_tag": "ABX9TyPnDBAXT7QCnqnx4EP2IIhv",
   "gpuType": "T4",
   "provenance": []
  },
  "kernelspec": {
   "display_name": "pytorch",
   "language": "python",
   "name": "python3"
  },
  "language_info": {
   "codemirror_mode": {
    "name": "ipython",
    "version": 3
   },
   "file_extension": ".py",
   "mimetype": "text/x-python",
   "name": "python",
   "nbconvert_exporter": "python",
   "pygments_lexer": "ipython3",
   "version": "3.11.11"
  }
 },
 "nbformat": 4,
 "nbformat_minor": 0
}
