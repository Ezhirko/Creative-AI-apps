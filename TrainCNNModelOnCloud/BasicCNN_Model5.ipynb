{
 "cells": [
  {
   "cell_type": "markdown",
   "metadata": {},
   "source": [
    "### Image Augmentation and LR Fine tunning\n",
    "\n",
    "##### Target:\n",
    "1. Added Image augmentation - Random rotation of in the range of -15 to 15 degrees and fill with 1\n",
    "2. Added Step LR with Learning Rate = 0.1, Step Size = 11 and Gamma = 0.2\n",
    "\n",
    "##### Results:\n",
    "1. Parameters: 7,612\n",
    "2. Best Train Accuracy: 99.16%\n",
    "3. Best Test Accuracy: 99.44%\n",
    "\n",
    "##### Analysis:\n",
    "1. Image augmentation regularized the model and it is underfitting which is good.\n",
    "2. The LR Scheduler has made the model to converge faster\n",
    "3. The model consistently provides the test accuracy of 99.4%"
   ]
  },
  {
   "cell_type": "markdown",
   "metadata": {
    "id": "0SILmUE3nxPg"
   },
   "source": [
    "### import Libraries"
   ]
  },
  {
   "cell_type": "code",
   "execution_count": null,
   "metadata": {
    "id": "zMTnH-40mJec"
   },
   "outputs": [],
   "source": [
    "from __future__ import print_function\n",
    "import torch\n",
    "import torch.nn as nn\n",
    "import torch.nn.functional as F\n",
    "import torch.optim as optim\n",
    "from torchvision import datasets, transforms\n",
    "from torch.optim.lr_scheduler import StepLR,ReduceLROnPlateau\n",
    "import matplotlib.pyplot as plt"
   ]
  },
  {
   "cell_type": "markdown",
   "metadata": {
    "id": "E0BsgUAet8jt"
   },
   "source": [
    "### Data Statics"
   ]
  },
  {
   "cell_type": "code",
   "execution_count": null,
   "metadata": {
    "colab": {
     "base_uri": "https://localhost:8080/"
    },
    "executionInfo": {
     "elapsed": 1539,
     "status": "ok",
     "timestamp": 1733851410828,
     "user": {
      "displayName": "Ezhirko Arulmozhi",
      "userId": "16774972310128518178"
     },
     "user_tz": -330
    },
    "id": "-zk2YraduAEa",
    "outputId": "44fc34a9-efe9-4dc9-a074-42f541e7acba"
   },
   "outputs": [
    {
     "name": "stdout",
     "output_type": "stream",
     "text": [
      "[Train]\n",
      "-Numpy Shape: (60000, 28, 28)\n",
      "-Tensor Shape: torch.Size([60000, 28, 28])\n",
      "-min: tensor(0.)\n",
      "-max: tensor(1.)\n",
      "-mean: tensor(0.1307)\n",
      "-std: tensor(0.3081)\n",
      "-var: tensor(0.0949)\n"
     ]
    }
   ],
   "source": [
    "simple_transforms = transforms.Compose([transforms.ToTensor()])\n",
    "dataset = datasets.MNIST('./data',train = True,transform=simple_transforms,download=True)\n",
    "exp_data = dataset.train_data\n",
    "exp_data = dataset.transform(exp_data.numpy())\n",
    "\n",
    "print('[Train]')\n",
    "print('-Numpy Shape:',dataset.train_data.cpu().numpy().shape)\n",
    "print('-Tensor Shape:',dataset.train_data.size())\n",
    "print('-min:',torch.min(exp_data))\n",
    "print('-max:',torch.max(exp_data))\n",
    "print('-mean:',torch.mean(exp_data))\n",
    "print('-std:',torch.std(exp_data))\n",
    "print('-var:',torch.var(exp_data))"
   ]
  },
  {
   "cell_type": "markdown",
   "metadata": {
    "id": "xAOly4BYn73P"
   },
   "source": [
    " ### Data Transformation\n",
    "\n",
    " We first start with defining our data transformations. We need to think what our data is and how can we augment it to correct represent images which it might not see otherwise."
   ]
  },
  {
   "cell_type": "code",
   "execution_count": null,
   "metadata": {
    "id": "-J4agwvEmuY2"
   },
   "outputs": [],
   "source": [
    "train_transforms = transforms.Compose([\n",
    "    transforms.RandomRotation((-15.0, 15.0), fill=(1,)),\n",
    "    transforms.ToTensor(),\n",
    "    transforms.Normalize((0.1307,), (0.3081,))\n",
    "])\n",
    "\n",
    "test_transforms = transforms.Compose([\n",
    "    transforms.ToTensor(),\n",
    "    transforms.Normalize((0.1307,), (0.3081,))\n",
    "])"
   ]
  },
  {
   "cell_type": "markdown",
   "metadata": {
    "id": "P-bJYKnUzOHC"
   },
   "source": [
    "### Create Train and Test Data"
   ]
  },
  {
   "cell_type": "code",
   "execution_count": null,
   "metadata": {
    "id": "HFlTYrDpn4eP"
   },
   "outputs": [],
   "source": [
    "train = datasets.MNIST('./data', train=True, download=True, transform=train_transforms)\n",
    "test = datasets.MNIST('./data', train=False, download=True, transform=test_transforms)"
   ]
  },
  {
   "cell_type": "markdown",
   "metadata": {
    "id": "2JvnZYVM1G4f"
   },
   "source": [
    "### Dataloader Arguments"
   ]
  },
  {
   "cell_type": "code",
   "execution_count": null,
   "metadata": {
    "colab": {
     "base_uri": "https://localhost:8080/"
    },
    "executionInfo": {
     "elapsed": 5,
     "status": "ok",
     "timestamp": 1733851410828,
     "user": {
      "displayName": "Ezhirko Arulmozhi",
      "userId": "16774972310128518178"
     },
     "user_tz": -330
    },
    "id": "OyUHi0HTzcU5",
    "outputId": "4a204b16-a586-45c9-ffc4-994260e725fa"
   },
   "outputs": [
    {
     "name": "stdout",
     "output_type": "stream",
     "text": [
      "CUDA Available? True\n"
     ]
    }
   ],
   "source": [
    "SEED = 1\n",
    "\n",
    "# CUDA?\n",
    "cuda = torch.cuda.is_available()\n",
    "print(\"CUDA Available?\", cuda)\n",
    "\n",
    "# For reproducibility\n",
    "torch.manual_seed(SEED)\n",
    "\n",
    "if cuda:\n",
    "    torch.cuda.manual_seed(SEED)\n",
    "\n",
    "# dataloader arguments - something you'll fetch these from cmdprmt\n",
    "dataloader_args = dict(shuffle=True, batch_size=128, num_workers=4, pin_memory=True) if cuda else dict(shuffle=True, batch_size=64)\n",
    "\n",
    "# train dataloader\n",
    "train_loader = torch.utils.data.DataLoader(train, **dataloader_args)\n",
    "\n",
    "# test dataloader\n",
    "test_loader = torch.utils.data.DataLoader(test, **dataloader_args)"
   ]
  },
  {
   "cell_type": "markdown",
   "metadata": {
    "id": "Q7TBKF_I3Eap"
   },
   "source": [
    "### The Model Architecture"
   ]
  },
  {
   "cell_type": "code",
   "execution_count": null,
   "metadata": {
    "id": "KNhvelc02UkN"
   },
   "outputs": [],
   "source": [
    "class Net(nn.Module):\n",
    "  def __init__(self):\n",
    "    super(Net, self).__init__()\n",
    "    #Input Block\n",
    "    self.convblock1 = nn.Sequential(\n",
    "        nn.Conv2d(in_channels=1,out_channels=8,kernel_size=(3,3),padding=0,bias=False),\n",
    "        nn.ReLU(),\n",
    "        nn.BatchNorm2d(num_features=8)\n",
    "    ) #Input size = 28, Output Size = 26, RFout = 3\n",
    "\n",
    "    #Convolution Block 1\n",
    "    self.convblock2 = nn.Sequential(\n",
    "        nn.Conv2d(in_channels=8, out_channels=16,kernel_size=(3,3),padding=0,bias=False),\n",
    "        nn.ReLU(),\n",
    "        nn.BatchNorm2d(num_features=16)\n",
    "    ) #Input size = 26, Output Size = 24, RFout = 5\n",
    "\n",
    "    #Transition Block 1\n",
    "    self.pool1 = nn.MaxPool2d(2,2) #Input size = 24, Output Size = 12, RFout = 6\n",
    "    self.convblock3 = nn.Sequential(\n",
    "        nn.Conv2d(in_channels=16, out_channels=8,kernel_size=(1,1),padding=0,bias=False),\n",
    "        nn.ReLU(),\n",
    "        nn.BatchNorm2d(num_features=8)\n",
    "    )#Input size = 12, Output Size = 12, RFout = 6\n",
    "\n",
    "    #Convolution Block 2\n",
    "    self.convblock4 = nn.Sequential(\n",
    "        nn.Conv2d(in_channels=8,out_channels=16,kernel_size=(3,3),padding=0,bias=False),\n",
    "        nn.ReLU(),\n",
    "        nn.BatchNorm2d(num_features=16)\n",
    "    )#Input size = 12, Output Size = 10, RFout = 10\n",
    "    self.convblock5 = nn.Sequential(\n",
    "        nn.Conv2d(in_channels=16,out_channels=32,kernel_size=(3,3),padding=0,bias=False),\n",
    "        nn.ReLU(),\n",
    "        nn.BatchNorm2d(num_features=32)\n",
    "    )#Input size = 10, Output Size = 8, RFout = 14\n",
    "\n",
    "    #Output block\n",
    "    self.convblock6 = nn.Sequential(\n",
    "        nn.Conv2d(in_channels=32,out_channels=10,kernel_size=(1,1),padding=0,bias=False),\n",
    "        nn.ReLU(),\n",
    "        nn.BatchNorm2d(num_features=10)\n",
    "    )#Input size = 8, Output Size = 8, RFout = 14\n",
    "    self.gap = nn.Sequential(\n",
    "        nn.AvgPool2d(kernel_size=(8,8))\n",
    "    )#Input size = 8, Output Size = 1, RFout = 28\n",
    "\n",
    "  def forward(self,x):\n",
    "    x = self.convblock1(x)\n",
    "    x = self.convblock2(x)\n",
    "    x = self.pool1(x)\n",
    "    x = self.convblock3(x)\n",
    "    x = self.convblock4(x)\n",
    "    x = self.convblock5(x)\n",
    "    x = self.convblock6(x)\n",
    "    x = self.gap(x)\n",
    "    x = x.view(-1,10)\n",
    "    return F.log_softmax(x,dim=-1)"
   ]
  },
  {
   "cell_type": "markdown",
   "metadata": {
    "id": "QSub2kArMxju"
   },
   "source": [
    "### Check the model parameters"
   ]
  },
  {
   "cell_type": "code",
   "execution_count": null,
   "metadata": {
    "colab": {
     "base_uri": "https://localhost:8080/"
    },
    "executionInfo": {
     "elapsed": 2801,
     "status": "ok",
     "timestamp": 1733851413625,
     "user": {
      "displayName": "Ezhirko Arulmozhi",
      "userId": "16774972310128518178"
     },
     "user_tz": -330
    },
    "id": "ARJl7Sbn8oXY",
    "outputId": "16fdbaa0-235f-480f-bb6e-80268a8793c0"
   },
   "outputs": [
    {
     "name": "stdout",
     "output_type": "stream",
     "text": [
      "Requirement already satisfied: torchsummary in /usr/local/lib/python3.10/dist-packages (1.5.1)\n",
      "cuda\n",
      "----------------------------------------------------------------\n",
      "        Layer (type)               Output Shape         Param #\n",
      "================================================================\n",
      "            Conv2d-1            [-1, 8, 26, 26]              72\n",
      "              ReLU-2            [-1, 8, 26, 26]               0\n",
      "       BatchNorm2d-3            [-1, 8, 26, 26]              16\n",
      "            Conv2d-4           [-1, 16, 24, 24]           1,152\n",
      "              ReLU-5           [-1, 16, 24, 24]               0\n",
      "       BatchNorm2d-6           [-1, 16, 24, 24]              32\n",
      "         MaxPool2d-7           [-1, 16, 12, 12]               0\n",
      "            Conv2d-8            [-1, 8, 12, 12]             128\n",
      "              ReLU-9            [-1, 8, 12, 12]               0\n",
      "      BatchNorm2d-10            [-1, 8, 12, 12]              16\n",
      "           Conv2d-11           [-1, 16, 10, 10]           1,152\n",
      "             ReLU-12           [-1, 16, 10, 10]               0\n",
      "      BatchNorm2d-13           [-1, 16, 10, 10]              32\n",
      "           Conv2d-14             [-1, 32, 8, 8]           4,608\n",
      "             ReLU-15             [-1, 32, 8, 8]               0\n",
      "      BatchNorm2d-16             [-1, 32, 8, 8]              64\n",
      "           Conv2d-17             [-1, 10, 8, 8]             320\n",
      "             ReLU-18             [-1, 10, 8, 8]               0\n",
      "      BatchNorm2d-19             [-1, 10, 8, 8]              20\n",
      "        AvgPool2d-20             [-1, 10, 1, 1]               0\n",
      "================================================================\n",
      "Total params: 7,612\n",
      "Trainable params: 7,612\n",
      "Non-trainable params: 0\n",
      "----------------------------------------------------------------\n",
      "Input size (MB): 0.00\n",
      "Forward/backward pass size (MB): 0.48\n",
      "Params size (MB): 0.03\n",
      "Estimated Total Size (MB): 0.51\n",
      "----------------------------------------------------------------\n"
     ]
    }
   ],
   "source": [
    "!pip install torchsummary\n",
    "from torchsummary import summary\n",
    "\n",
    "use_cuda = torch.cuda.is_available()\n",
    "device = torch.device(\"cuda\" if use_cuda else \"cpu\")\n",
    "print(device)\n",
    "model = Net().to(device)\n",
    "summary(model, input_size=(1, 28, 28))"
   ]
  },
  {
   "cell_type": "markdown",
   "metadata": {
    "id": "wa4uooegN21Z"
   },
   "source": [
    "Training and Testing"
   ]
  },
  {
   "cell_type": "code",
   "execution_count": null,
   "metadata": {
    "id": "dUX1T9zeNqIF"
   },
   "outputs": [],
   "source": [
    "from tqdm import tqdm\n",
    "\n",
    "train_losses = []\n",
    "test_losses = []\n",
    "train_acc = []\n",
    "test_acc = []\n",
    "\n",
    "def train(model, device, train_loader, optimizer, epoch):\n",
    "  model.train()\n",
    "  pbar = tqdm(train_loader)\n",
    "  correct = 0\n",
    "  processed = 0\n",
    "  for batch_idx, (data, target) in enumerate(pbar):\n",
    "    # get samples\n",
    "    data, target = data.to(device), target.to(device)\n",
    "\n",
    "    # Init\n",
    "    optimizer.zero_grad()\n",
    "    # In PyTorch, we need to set the gradients to zero before starting to do backpropragation because PyTorch accumulates the gradients on subsequent backward passes.\n",
    "    # Because of this, when you start your training loop, ideally you should zero out the gradients so that you do the parameter update correctly.\n",
    "\n",
    "    # Predict\n",
    "    y_pred = model(data)\n",
    "\n",
    "    # Calculate loss\n",
    "    loss = F.nll_loss(y_pred, target)\n",
    "    train_losses.append(loss)\n",
    "\n",
    "    # Backpropagation\n",
    "    loss.backward()\n",
    "    optimizer.step()\n",
    "\n",
    "    # Update pbar-tqdm\n",
    "\n",
    "    pred = y_pred.argmax(dim=1, keepdim=True)  # get the index of the max log-probability\n",
    "    correct += pred.eq(target.view_as(pred)).sum().item()\n",
    "    processed += len(data)\n",
    "\n",
    "    pbar.set_description(desc= f'Loss={loss.item()} Batch_id={batch_idx} Accuracy={100*correct/processed:0.2f}')\n",
    "    train_acc.append(100*correct/processed)\n",
    "\n",
    "def test(model, device, test_loader):\n",
    "    model.eval()\n",
    "    test_loss = 0\n",
    "    correct = 0\n",
    "    with torch.no_grad():\n",
    "        for data, target in test_loader:\n",
    "            data, target = data.to(device), target.to(device)\n",
    "            output = model(data)\n",
    "            test_loss += F.nll_loss(output, target, reduction='sum').item()  # sum up batch loss\n",
    "            pred = output.argmax(dim=1, keepdim=True)  # get the index of the max log-probability\n",
    "            correct += pred.eq(target.view_as(pred)).sum().item()\n",
    "\n",
    "    test_loss /= len(test_loader.dataset)\n",
    "    test_losses.append(test_loss)\n",
    "\n",
    "    print('\\nTest set: Average loss: {:.4f}, Accuracy: {}/{} ({:.2f}%)\\n'.format(\n",
    "        test_loss, correct, len(test_loader.dataset),\n",
    "        100. * correct / len(test_loader.dataset)))\n",
    "\n",
    "    test_acc.append(100. * correct / len(test_loader.dataset))"
   ]
  },
  {
   "cell_type": "markdown",
   "metadata": {
    "id": "ZvKr_1eoX8l6"
   },
   "source": [
    "### Train the Model"
   ]
  },
  {
   "cell_type": "code",
   "execution_count": null,
   "metadata": {
    "colab": {
     "base_uri": "https://localhost:8080/"
    },
    "executionInfo": {
     "elapsed": 366304,
     "status": "ok",
     "timestamp": 1733851779924,
     "user": {
      "displayName": "Ezhirko Arulmozhi",
      "userId": "16774972310128518178"
     },
     "user_tz": -330
    },
    "id": "LVUzruafYCPK",
    "outputId": "94733eea-addd-4775-d8e3-c9389dc57220"
   },
   "outputs": [
    {
     "name": "stdout",
     "output_type": "stream",
     "text": [
      " ***** EPOCH:0 ***** \n"
     ]
    },
    {
     "name": "stderr",
     "output_type": "stream",
     "text": [
      "Loss=0.1254786252975464 Batch_id=468 Accuracy=92.91: 100%|██████████| 469/469 [00:29<00:00, 16.00it/s]\n"
     ]
    },
    {
     "name": "stdout",
     "output_type": "stream",
     "text": [
      "\n",
      "Test set: Average loss: 0.0766, Accuracy: 9796/10000 (97.96%)\n",
      "\n",
      "Learning Rate after epoch 0: 0.100000\n",
      " ***** EPOCH:1 ***** \n"
     ]
    },
    {
     "name": "stderr",
     "output_type": "stream",
     "text": [
      "Loss=0.110850490629673 Batch_id=468 Accuracy=97.61: 100%|██████████| 469/469 [00:20<00:00, 22.49it/s]\n"
     ]
    },
    {
     "name": "stdout",
     "output_type": "stream",
     "text": [
      "\n",
      "Test set: Average loss: 0.0656, Accuracy: 9824/10000 (98.24%)\n",
      "\n",
      "Learning Rate after epoch 1: 0.100000\n",
      " ***** EPOCH:2 ***** \n"
     ]
    },
    {
     "name": "stderr",
     "output_type": "stream",
     "text": [
      "Loss=0.1198609471321106 Batch_id=468 Accuracy=98.01: 100%|██████████| 469/469 [00:20<00:00, 23.18it/s]\n"
     ]
    },
    {
     "name": "stdout",
     "output_type": "stream",
     "text": [
      "\n",
      "Test set: Average loss: 0.0399, Accuracy: 9882/10000 (98.82%)\n",
      "\n",
      "Learning Rate after epoch 2: 0.100000\n",
      " ***** EPOCH:3 ***** \n"
     ]
    },
    {
     "name": "stderr",
     "output_type": "stream",
     "text": [
      "Loss=0.024681495502591133 Batch_id=468 Accuracy=98.23: 100%|██████████| 469/469 [00:21<00:00, 21.64it/s]\n"
     ]
    },
    {
     "name": "stdout",
     "output_type": "stream",
     "text": [
      "\n",
      "Test set: Average loss: 0.0383, Accuracy: 9887/10000 (98.87%)\n",
      "\n",
      "Learning Rate after epoch 3: 0.100000\n",
      " ***** EPOCH:4 ***** \n"
     ]
    },
    {
     "name": "stderr",
     "output_type": "stream",
     "text": [
      "Loss=0.09424354881048203 Batch_id=468 Accuracy=98.38: 100%|██████████| 469/469 [00:21<00:00, 22.27it/s]\n"
     ]
    },
    {
     "name": "stdout",
     "output_type": "stream",
     "text": [
      "\n",
      "Test set: Average loss: 0.0327, Accuracy: 9904/10000 (99.04%)\n",
      "\n",
      "Learning Rate after epoch 4: 0.100000\n",
      " ***** EPOCH:5 ***** \n"
     ]
    },
    {
     "name": "stderr",
     "output_type": "stream",
     "text": [
      "Loss=0.06588687747716904 Batch_id=468 Accuracy=98.49: 100%|██████████| 469/469 [00:20<00:00, 22.54it/s]\n"
     ]
    },
    {
     "name": "stdout",
     "output_type": "stream",
     "text": [
      "\n",
      "Test set: Average loss: 0.0286, Accuracy: 9908/10000 (99.08%)\n",
      "\n",
      "Learning Rate after epoch 5: 0.100000\n",
      " ***** EPOCH:6 ***** \n"
     ]
    },
    {
     "name": "stderr",
     "output_type": "stream",
     "text": [
      "Loss=0.029608584940433502 Batch_id=468 Accuracy=98.60: 100%|██████████| 469/469 [00:21<00:00, 21.41it/s]\n"
     ]
    },
    {
     "name": "stdout",
     "output_type": "stream",
     "text": [
      "\n",
      "Test set: Average loss: 0.0289, Accuracy: 9913/10000 (99.13%)\n",
      "\n",
      "Learning Rate after epoch 6: 0.100000\n",
      " ***** EPOCH:7 ***** \n"
     ]
    },
    {
     "name": "stderr",
     "output_type": "stream",
     "text": [
      "Loss=0.038012560456991196 Batch_id=468 Accuracy=98.68: 100%|██████████| 469/469 [00:21<00:00, 21.59it/s]\n"
     ]
    },
    {
     "name": "stdout",
     "output_type": "stream",
     "text": [
      "\n",
      "Test set: Average loss: 0.0292, Accuracy: 9917/10000 (99.17%)\n",
      "\n",
      "Learning Rate after epoch 7: 0.100000\n",
      " ***** EPOCH:8 ***** \n"
     ]
    },
    {
     "name": "stderr",
     "output_type": "stream",
     "text": [
      "Loss=0.057173967361450195 Batch_id=468 Accuracy=98.70: 100%|██████████| 469/469 [00:20<00:00, 22.83it/s]\n"
     ]
    },
    {
     "name": "stdout",
     "output_type": "stream",
     "text": [
      "\n",
      "Test set: Average loss: 0.0264, Accuracy: 9924/10000 (99.24%)\n",
      "\n",
      "Learning Rate after epoch 8: 0.100000\n",
      " ***** EPOCH:9 ***** \n"
     ]
    },
    {
     "name": "stderr",
     "output_type": "stream",
     "text": [
      "Loss=0.031078411266207695 Batch_id=468 Accuracy=98.75: 100%|██████████| 469/469 [00:21<00:00, 22.10it/s]\n"
     ]
    },
    {
     "name": "stdout",
     "output_type": "stream",
     "text": [
      "\n",
      "Test set: Average loss: 0.0320, Accuracy: 9900/10000 (99.00%)\n",
      "\n",
      "Learning Rate after epoch 9: 0.100000\n",
      " ***** EPOCH:10 ***** \n"
     ]
    },
    {
     "name": "stderr",
     "output_type": "stream",
     "text": [
      "Loss=0.04639555141329765 Batch_id=468 Accuracy=98.83: 100%|██████████| 469/469 [00:22<00:00, 21.31it/s]\n"
     ]
    },
    {
     "name": "stdout",
     "output_type": "stream",
     "text": [
      "\n",
      "Test set: Average loss: 0.0251, Accuracy: 9925/10000 (99.25%)\n",
      "\n",
      "Learning Rate after epoch 10: 0.020000\n",
      " ***** EPOCH:11 ***** \n"
     ]
    },
    {
     "name": "stderr",
     "output_type": "stream",
     "text": [
      "Loss=0.09165012836456299 Batch_id=468 Accuracy=99.07: 100%|██████████| 469/469 [00:22<00:00, 21.11it/s]\n"
     ]
    },
    {
     "name": "stdout",
     "output_type": "stream",
     "text": [
      "\n",
      "Test set: Average loss: 0.0197, Accuracy: 9941/10000 (99.41%)\n",
      "\n",
      "Learning Rate after epoch 11: 0.020000\n",
      " ***** EPOCH:12 ***** \n"
     ]
    },
    {
     "name": "stderr",
     "output_type": "stream",
     "text": [
      "Loss=0.017052898183465004 Batch_id=468 Accuracy=99.08: 100%|██████████| 469/469 [00:21<00:00, 21.52it/s]\n"
     ]
    },
    {
     "name": "stdout",
     "output_type": "stream",
     "text": [
      "\n",
      "Test set: Average loss: 0.0195, Accuracy: 9943/10000 (99.43%)\n",
      "\n",
      "Learning Rate after epoch 12: 0.020000\n",
      " ***** EPOCH:13 ***** \n"
     ]
    },
    {
     "name": "stderr",
     "output_type": "stream",
     "text": [
      "Loss=0.024208450689911842 Batch_id=468 Accuracy=99.14: 100%|██████████| 469/469 [00:22<00:00, 20.67it/s]\n"
     ]
    },
    {
     "name": "stdout",
     "output_type": "stream",
     "text": [
      "\n",
      "Test set: Average loss: 0.0187, Accuracy: 9944/10000 (99.44%)\n",
      "\n",
      "Learning Rate after epoch 13: 0.020000\n",
      " ***** EPOCH:14 ***** \n"
     ]
    },
    {
     "name": "stderr",
     "output_type": "stream",
     "text": [
      "Loss=0.07929307967424393 Batch_id=468 Accuracy=99.16: 100%|██████████| 469/469 [00:21<00:00, 21.32it/s]\n"
     ]
    },
    {
     "name": "stdout",
     "output_type": "stream",
     "text": [
      "\n",
      "Test set: Average loss: 0.0193, Accuracy: 9942/10000 (99.42%)\n",
      "\n",
      "Learning Rate after epoch 14: 0.020000\n"
     ]
    }
   ],
   "source": [
    "model =  Net().to(device)\n",
    "optimizer = optim.SGD(model.parameters(), lr=0.1, momentum=0.9)\n",
    "EPOCHS = 15\n",
    "scheduler = StepLR(optimizer, step_size=11, gamma=0.2)\n",
    "#scheduler = ReduceLROnPlateau(optimizer, 'max',patience=1,factor=0.2)\n",
    "\n",
    "for epoch in range(EPOCHS):\n",
    "    print(f\" ***** EPOCH:{epoch} ***** \")\n",
    "    train(model, device, train_loader, optimizer, epoch)\n",
    "    scheduler.step()\n",
    "    test(model, device, test_loader)\n",
    "    #scheduler.step(test_acc[-1])\n",
    "    current_lr = optimizer.param_groups[0]['lr']\n",
    "    print(f\"Learning Rate after epoch {epoch}: {current_lr:.6f}\")"
   ]
  },
  {
   "cell_type": "markdown",
   "metadata": {
    "id": "f-70Ru1uZNOX"
   },
   "source": [
    "### Loss and Accuracy Plot"
   ]
  },
  {
   "cell_type": "code",
   "execution_count": null,
   "metadata": {
    "colab": {
     "base_uri": "https://localhost:8080/",
     "height": 817
    },
    "executionInfo": {
     "elapsed": 1651,
     "status": "ok",
     "timestamp": 1733851781571,
     "user": {
      "displayName": "Ezhirko Arulmozhi",
      "userId": "16774972310128518178"
     },
     "user_tz": -330
    },
    "id": "koHtryGtZMjh",
    "outputId": "1e70a3cd-68f0-4928-fafe-e3997edab0ea"
   },
   "outputs": [
    {
     "data": {
      "text/plain": [
       "Text(0.5, 1.0, 'Test Accuracy')"
      ]
     },
     "execution_count": 20,
     "metadata": {},
     "output_type": "execute_result"
    },
    {
     "data": {
      "image/png": "[encoded data removed]",
      "text/plain": [
       "<Figure size 1500x1000 with 4 Axes>"
      ]
     },
     "metadata": {},
     "output_type": "display_data"
    }
   ],
   "source": [
    "fig, axs = plt.subplots(2,2,figsize=(15,10))\n",
    "# Move tensors to CPU and convert to NumPy\n",
    "train_losses_cpu = [loss.cpu().item() if torch.is_tensor(loss) else loss for loss in train_losses]\n",
    "train_acc_cpu = [acc.cpu().item() if torch.is_tensor(acc) else acc for acc in train_acc]\n",
    "test_losses_cpu = [loss.cpu().item() if torch.is_tensor(loss) else loss for loss in test_losses]\n",
    "test_acc_cpu = [acc.cpu().item() if torch.is_tensor(acc) else acc for acc in test_acc]\n",
    "\n",
    "axs[0, 0].plot(train_losses_cpu)\n",
    "axs[0, 0].set_title(\"Training Loss\")\n",
    "axs[1, 0].plot(train_acc_cpu)\n",
    "axs[1, 0].set_title(\"Training Accuracy\")\n",
    "axs[0, 1].plot(test_losses_cpu)\n",
    "axs[0, 1].set_title(\"Test Loss\")\n",
    "axs[1, 1].plot(test_acc_cpu)\n",
    "axs[1, 1].set_title(\"Test Accuracy\")"
   ]
  }
 ],
 "metadata": {
  "accelerator": "GPU",
  "colab": {
   "authorship_tag": "ABX9TyPYi4WNRrXbK6R44PFH0lWf",
   "gpuType": "T4",
   "provenance": []
  },
  "kernelspec": {
   "display_name": "Python 3",
   "name": "python3"
  },
  "language_info": {
   "name": "python"
  }
 },
 "nbformat": 4,
 "nbformat_minor": 0
}
