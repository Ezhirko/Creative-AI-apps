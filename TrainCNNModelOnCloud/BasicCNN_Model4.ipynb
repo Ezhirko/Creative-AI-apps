{
 "cells": [
  {
   "cell_type": "markdown",
   "metadata": {},
   "source": [
    "### Learning Rate Scheduler\n",
    "\n",
    "##### Target:\n",
    "1. Increase the Learning Rate to 0.1 for faster convergence\n",
    "2. Add StepLR to decrease the Learning rate. Keep the Step size = 7 and Gamma = 0.1\n",
    "\n",
    "##### Results:\n",
    "1. Parameters: 7612\n",
    "2. Best Train Accuracy: 99.63%\n",
    "3. Best Test Accuracy: 99.19%\n",
    "\n",
    "##### Analysis:\n",
    "1. Increasing the LR significantly pushed the accuracies further compare to previous model.\n",
    "2. Little overfitting as most of the epochs train accuracies higher than test accuracies. \n",
    "3. Apply Image augmentation in the next version to regularize the model."
   ]
  },
  {
   "cell_type": "markdown",
   "metadata": {
    "id": "0SILmUE3nxPg"
   },
   "source": [
    "### import Libraries"
   ]
  },
  {
   "cell_type": "code",
   "execution_count": 1,
   "metadata": {
    "executionInfo": {
     "elapsed": 15474,
     "status": "ok",
     "timestamp": 1733762133666,
     "user": {
      "displayName": "Ezhirko Arulmozhi",
      "userId": "16774972310128518178"
     },
     "user_tz": -330
    },
    "id": "zMTnH-40mJec"
   },
   "outputs": [],
   "source": [
    "import torch\n",
    "import torch.nn as nn\n",
    "import torch.nn.functional as F\n",
    "import torch.optim as optim\n",
    "from torchvision import datasets, transforms\n",
    "%matplotlib inline\n",
    "import matplotlib.pyplot as plt\n",
    "from torch.optim.lr_scheduler import StepLR"
   ]
  },
  {
   "cell_type": "markdown",
   "metadata": {
    "id": "E0BsgUAet8jt"
   },
   "source": [
    "### Data Statics"
   ]
  },
  {
   "cell_type": "code",
   "execution_count": 2,
   "metadata": {
    "colab": {
     "base_uri": "https://localhost:8080/"
    },
    "executionInfo": {
     "elapsed": 21944,
     "status": "ok",
     "timestamp": 1733762155607,
     "user": {
      "displayName": "Ezhirko Arulmozhi",
      "userId": "16774972310128518178"
     },
     "user_tz": -330
    },
    "id": "-zk2YraduAEa",
    "outputId": "aeb2cdca-3019-476a-891f-259ef8ed2d01"
   },
   "outputs": [
    {
     "name": "stdout",
     "output_type": "stream",
     "text": [
      "[Train]\n",
      "-Numpy Shape: (60000, 28, 28)\n",
      "-Tensor Shape: torch.Size([60000, 28, 28])\n",
      "-min: tensor(0.)\n",
      "-max: tensor(1.)\n",
      "-mean: tensor(0.1307)\n",
      "-std: tensor(0.3081)\n",
      "-var: tensor(0.0949)\n"
     ]
    },
    {
     "name": "stderr",
     "output_type": "stream",
     "text": [
      "/opt/conda/envs/pytorch/lib/python3.11/site-packages/torchvision/datasets/mnist.py:76: UserWarning: train_data has been renamed data\n",
      "  warnings.warn(\"train_data has been renamed data\")\n"
     ]
    }
   ],
   "source": [
    "simple_transforms = transforms.Compose([transforms.ToTensor()])\n",
    "dataset = datasets.MNIST('./data',train = True,transform=simple_transforms,download=True)\n",
    "exp_data = dataset.train_data\n",
    "exp_data = dataset.transform(exp_data.numpy())\n",
    "\n",
    "print('[Train]')\n",
    "print('-Numpy Shape:',dataset.train_data.cpu().numpy().shape)\n",
    "print('-Tensor Shape:',dataset.train_data.size())\n",
    "print('-min:',torch.min(exp_data))\n",
    "print('-max:',torch.max(exp_data))\n",
    "print('-mean:',torch.mean(exp_data))\n",
    "print('-std:',torch.std(exp_data))\n",
    "print('-var:',torch.var(exp_data))"
   ]
  },
  {
   "cell_type": "markdown",
   "metadata": {
    "id": "xAOly4BYn73P"
   },
   "source": [
    " ### Data Transformation\n",
    "\n",
    " We first start with defining our data transformations. We need to think what our data is and how can we augment it to correct represent images which it might not see otherwise."
   ]
  },
  {
   "cell_type": "code",
   "execution_count": 3,
   "metadata": {
    "executionInfo": {
     "elapsed": 10,
     "status": "ok",
     "timestamp": 1733762155608,
     "user": {
      "displayName": "Ezhirko Arulmozhi",
      "userId": "16774972310128518178"
     },
     "user_tz": -330
    },
    "id": "-J4agwvEmuY2"
   },
   "outputs": [],
   "source": [
    "train_transforms = transforms.Compose(\n",
    "    [transforms.ToTensor(),\n",
    "     transforms.Normalize((0.1307,), (0.3081,))\n",
    "     ]\n",
    ")\n",
    "test_transforms = transforms.Compose(\n",
    "    [\n",
    "        transforms.ToTensor(),\n",
    "        transforms.Normalize((0.1307,), (0.3081,))\n",
    "    ]\n",
    ")"
   ]
  },
  {
   "cell_type": "markdown",
   "metadata": {
    "id": "P-bJYKnUzOHC"
   },
   "source": [
    "### Create Train and Test Data"
   ]
  },
  {
   "cell_type": "code",
   "execution_count": 4,
   "metadata": {
    "executionInfo": {
     "elapsed": 10,
     "status": "ok",
     "timestamp": 1733762155608,
     "user": {
      "displayName": "Ezhirko Arulmozhi",
      "userId": "16774972310128518178"
     },
     "user_tz": -330
    },
    "id": "HFlTYrDpn4eP"
   },
   "outputs": [],
   "source": [
    "train = datasets.MNIST('./data',train=True,transform=train_transforms)\n",
    "test = datasets.MNIST('./data',train=False,transform=train_transforms)"
   ]
  },
  {
   "cell_type": "markdown",
   "metadata": {
    "id": "2JvnZYVM1G4f"
   },
   "source": [
    "### Dataloader Arguments"
   ]
  },
  {
   "cell_type": "code",
   "execution_count": 5,
   "metadata": {
    "colab": {
     "base_uri": "https://localhost:8080/"
    },
    "executionInfo": {
     "elapsed": 9,
     "status": "ok",
     "timestamp": 1733762155608,
     "user": {
      "displayName": "Ezhirko Arulmozhi",
      "userId": "16774972310128518178"
     },
     "user_tz": -330
    },
    "id": "OyUHi0HTzcU5",
    "outputId": "d9a72967-e265-484c-a495-8cc88e91b810"
   },
   "outputs": [
    {
     "name": "stdout",
     "output_type": "stream",
     "text": [
      "CUDA Available ?: True\n"
     ]
    }
   ],
   "source": [
    "SEED = 1\n",
    "cuda = torch.cuda.is_available()\n",
    "print(\"CUDA Available ?:\",cuda)\n",
    "\n",
    "torch.manual_seed(SEED)\n",
    "if cuda:\n",
    "  torch.cuda.manual_seed(SEED)\n",
    "\n",
    "dataloader_args = dict(shuffle=True, batch_size=128, num_workers=4,pin_memory=True) if cuda else dict(shuffle=True,batch_size = 64)\n",
    "\n",
    "train_loader = torch.utils.data.DataLoader(train, **dataloader_args)\n",
    "test_loader = torch.utils.data.DataLoader(test, **dataloader_args)"
   ]
  },
  {
   "cell_type": "markdown",
   "metadata": {
    "id": "Q7TBKF_I3Eap"
   },
   "source": [
    "### The Model Architecture"
   ]
  },
  {
   "cell_type": "code",
   "execution_count": 6,
   "metadata": {
    "executionInfo": {
     "elapsed": 6,
     "status": "ok",
     "timestamp": 1733762155608,
     "user": {
      "displayName": "Ezhirko Arulmozhi",
      "userId": "16774972310128518178"
     },
     "user_tz": -330
    },
    "id": "KNhvelc02UkN"
   },
   "outputs": [],
   "source": [
    "class Net(nn.Module):\n",
    "  def __init__(self):\n",
    "    super(Net, self).__init__()\n",
    "    #Input Block\n",
    "    self.convblock1 = nn.Sequential(\n",
    "        nn.Conv2d(in_channels=1,out_channels=8,kernel_size=(3,3),padding=0,bias=False),\n",
    "        nn.ReLU(),\n",
    "        nn.BatchNorm2d(num_features=8)\n",
    "    ) #Input size = 28, Output Size = 26, RFout = 3\n",
    "\n",
    "    #Convolution Block 1\n",
    "    self.convblock2 = nn.Sequential(\n",
    "        nn.Conv2d(in_channels=8, out_channels=16,kernel_size=(3,3),padding=0,bias=False),\n",
    "        nn.ReLU(),\n",
    "        nn.BatchNorm2d(num_features=16)\n",
    "    ) #Input size = 26, Output Size = 24, RFout = 5\n",
    "\n",
    "    #Transition Block 1\n",
    "    self.pool1 = nn.MaxPool2d(2,2) #Input size = 24, Output Size = 12, RFout = 6\n",
    "    self.convblock3 = nn.Sequential(\n",
    "        nn.Conv2d(in_channels=16, out_channels=8,kernel_size=(1,1),padding=0,bias=False),\n",
    "        nn.ReLU(),\n",
    "        nn.BatchNorm2d(num_features=8)\n",
    "    )#Input size = 12, Output Size = 12, RFout = 6\n",
    "\n",
    "    #Convolution Block 2\n",
    "    self.convblock4 = nn.Sequential(\n",
    "        nn.Conv2d(in_channels=8,out_channels=16,kernel_size=(3,3),padding=0,bias=False),\n",
    "        nn.ReLU(),\n",
    "        nn.BatchNorm2d(num_features=16)\n",
    "    )#Input size = 12, Output Size = 10, RFout = 10\n",
    "    self.convblock5 = nn.Sequential(\n",
    "        nn.Conv2d(in_channels=16,out_channels=32,kernel_size=(3,3),padding=0,bias=False),\n",
    "        nn.ReLU(),\n",
    "        nn.BatchNorm2d(num_features=32)\n",
    "    )#Input size = 10, Output Size = 8, RFout = 14\n",
    "\n",
    "    #Output block\n",
    "    self.convblock6 = nn.Sequential(\n",
    "        nn.Conv2d(in_channels=32,out_channels=10,kernel_size=(1,1),padding=0,bias=False),\n",
    "        nn.ReLU(),\n",
    "        nn.BatchNorm2d(num_features=10)\n",
    "    )#Input size = 8, Output Size = 8, RFout = 14\n",
    "    self.convblock7 = nn.Sequential(\n",
    "        nn.AvgPool2d(kernel_size=(8,8))\n",
    "    )#Input size = 8, Output Size = 1, RFout = 28\n",
    "\n",
    "  def forward(self,x):\n",
    "    x = self.convblock1(x)\n",
    "    x = self.convblock2(x)\n",
    "    x = self.pool1(x)\n",
    "    x = self.convblock3(x)\n",
    "    x = self.convblock4(x)\n",
    "    x = self.convblock5(x)\n",
    "    x = self.convblock6(x)\n",
    "    x = self.convblock7(x)\n",
    "    x = x.view(-1,10)\n",
    "    return F.log_softmax(x,dim=-1)\n",
    "\n"
   ]
  },
  {
   "cell_type": "markdown",
   "metadata": {
    "id": "QSub2kArMxju"
   },
   "source": [
    "### Check the model parameters"
   ]
  },
  {
   "cell_type": "code",
   "execution_count": 7,
   "metadata": {
    "colab": {
     "base_uri": "https://localhost:8080/"
    },
    "executionInfo": {
     "elapsed": 5152,
     "status": "ok",
     "timestamp": 1733762160754,
     "user": {
      "displayName": "Ezhirko Arulmozhi",
      "userId": "16774972310128518178"
     },
     "user_tz": -330
    },
    "id": "ARJl7Sbn8oXY",
    "outputId": "0c8239c3-c5b0-4c25-f3b4-52bce7d54a11"
   },
   "outputs": [
    {
     "name": "stdout",
     "output_type": "stream",
     "text": [
      "Requirement already satisfied: torchsummary in /opt/conda/envs/pytorch/lib/python3.11/site-packages (1.5.1)\n",
      "cuda\n",
      "----------------------------------------------------------------\n",
      "        Layer (type)               Output Shape         Param #\n",
      "================================================================\n",
      "            Conv2d-1            [-1, 8, 26, 26]              72\n",
      "              ReLU-2            [-1, 8, 26, 26]               0\n",
      "       BatchNorm2d-3            [-1, 8, 26, 26]              16\n",
      "            Conv2d-4           [-1, 16, 24, 24]           1,152\n",
      "              ReLU-5           [-1, 16, 24, 24]               0\n",
      "       BatchNorm2d-6           [-1, 16, 24, 24]              32\n",
      "         MaxPool2d-7           [-1, 16, 12, 12]               0\n",
      "            Conv2d-8            [-1, 8, 12, 12]             128\n",
      "              ReLU-9            [-1, 8, 12, 12]               0\n",
      "      BatchNorm2d-10            [-1, 8, 12, 12]              16\n",
      "           Conv2d-11           [-1, 16, 10, 10]           1,152\n",
      "             ReLU-12           [-1, 16, 10, 10]               0\n",
      "      BatchNorm2d-13           [-1, 16, 10, 10]              32\n",
      "           Conv2d-14             [-1, 32, 8, 8]           4,608\n",
      "             ReLU-15             [-1, 32, 8, 8]               0\n",
      "      BatchNorm2d-16             [-1, 32, 8, 8]              64\n",
      "           Conv2d-17             [-1, 10, 8, 8]             320\n",
      "             ReLU-18             [-1, 10, 8, 8]               0\n",
      "      BatchNorm2d-19             [-1, 10, 8, 8]              20\n",
      "        AvgPool2d-20             [-1, 10, 1, 1]               0\n",
      "================================================================\n",
      "Total params: 7,612\n",
      "Trainable params: 7,612\n",
      "Non-trainable params: 0\n",
      "----------------------------------------------------------------\n",
      "Input size (MB): 0.00\n",
      "Forward/backward pass size (MB): 0.48\n",
      "Params size (MB): 0.03\n",
      "Estimated Total Size (MB): 0.51\n",
      "----------------------------------------------------------------\n"
     ]
    }
   ],
   "source": [
    "!pip install torchsummary\n",
    "from torchsummary import summary\n",
    "\n",
    "use_cuda = torch.cuda.is_available()\n",
    "device = torch.device(\"cuda\" if use_cuda else \"cpu\")\n",
    "print(device)\n",
    "model = Net().to(device)\n",
    "summary(model, input_size=(1, 28, 28))"
   ]
  },
  {
   "cell_type": "markdown",
   "metadata": {
    "id": "wa4uooegN21Z"
   },
   "source": [
    "Training and Testing"
   ]
  },
  {
   "cell_type": "code",
   "execution_count": 8,
   "metadata": {
    "executionInfo": {
     "elapsed": 8,
     "status": "ok",
     "timestamp": 1733762160754,
     "user": {
      "displayName": "Ezhirko Arulmozhi",
      "userId": "16774972310128518178"
     },
     "user_tz": -330
    },
    "id": "dUX1T9zeNqIF"
   },
   "outputs": [],
   "source": [
    "from tqdm import tqdm\n",
    "\n",
    "train_losses = []\n",
    "test_losses = []\n",
    "train_acc = []\n",
    "test_acc = []\n",
    "\n",
    "def train(model, device, train_loader, optimizer, epoch):\n",
    "  model.train()\n",
    "  pbar = tqdm(train_loader)\n",
    "  correct = 0\n",
    "  processed = 0\n",
    "  for batch_idx, (data, target) in enumerate(pbar):\n",
    "    # get samples\n",
    "    data, target = data.to(device), target.to(device)\n",
    "\n",
    "    # Init\n",
    "    optimizer.zero_grad()\n",
    "    # In PyTorch, we need to set the gradients to zero before starting to do backpropragation because PyTorch accumulates the gradients on subsequent backward passes.\n",
    "    # Because of this, when you start your training loop, ideally you should zero out the gradients so that you do the parameter update correctly.\n",
    "\n",
    "    # Predict\n",
    "    y_pred = model(data)\n",
    "\n",
    "    # Calculate loss\n",
    "    loss = F.nll_loss(y_pred, target)\n",
    "    train_losses.append(loss)\n",
    "\n",
    "    # Backpropagation\n",
    "    loss.backward()\n",
    "    optimizer.step()\n",
    "\n",
    "    # Update pbar-tqdm\n",
    "\n",
    "    pred = y_pred.argmax(dim=1, keepdim=True)  # get the index of the max log-probability\n",
    "    correct += pred.eq(target.view_as(pred)).sum().item()\n",
    "    processed += len(data)\n",
    "\n",
    "    pbar.set_description(desc= f'Loss={loss.item()} Batch_id={batch_idx} Accuracy={100*correct/processed:0.2f}')\n",
    "    train_acc.append(100*correct/processed)\n",
    "\n",
    "def test(model, device, test_loader):\n",
    "    model.eval()\n",
    "    test_loss = 0\n",
    "    correct = 0\n",
    "    with torch.no_grad():\n",
    "        for data, target in test_loader:\n",
    "            data, target = data.to(device), target.to(device)\n",
    "            output = model(data)\n",
    "            test_loss += F.nll_loss(output, target, reduction='sum').item()  # sum up batch loss\n",
    "            pred = output.argmax(dim=1, keepdim=True)  # get the index of the max log-probability\n",
    "            correct += pred.eq(target.view_as(pred)).sum().item()\n",
    "\n",
    "    test_loss /= len(test_loader.dataset)\n",
    "    test_losses.append(test_loss)\n",
    "\n",
    "    print('\\nTest set: Average loss: {:.4f}, Accuracy: {}/{} ({:.2f}%)\\n'.format(\n",
    "        test_loss, correct, len(test_loader.dataset),\n",
    "        100. * correct / len(test_loader.dataset)))\n",
    "\n",
    "    test_acc.append(100. * correct / len(test_loader.dataset))"
   ]
  },
  {
   "cell_type": "markdown",
   "metadata": {
    "id": "ZvKr_1eoX8l6"
   },
   "source": [
    "### Train the Model"
   ]
  },
  {
   "cell_type": "code",
   "execution_count": 9,
   "metadata": {
    "colab": {
     "base_uri": "https://localhost:8080/"
    },
    "executionInfo": {
     "elapsed": 354777,
     "status": "ok",
     "timestamp": 1733762515524,
     "user": {
      "displayName": "Ezhirko Arulmozhi",
      "userId": "16774972310128518178"
     },
     "user_tz": -330
    },
    "id": "LVUzruafYCPK",
    "outputId": "b8469fbb-3d19-4fbf-8b33-c92be4eb5253"
   },
   "outputs": [
    {
     "name": "stdout",
     "output_type": "stream",
     "text": [
      "EPOCH: 0\n"
     ]
    },
    {
     "name": "stderr",
     "output_type": "stream",
     "text": [
      "Loss=0.09649106860160828 Batch_id=468 Accuracy=94.46: 100%|██████████| 469/469 [00:04<00:00, 109.52it/s] \n"
     ]
    },
    {
     "name": "stdout",
     "output_type": "stream",
     "text": [
      "\n",
      "Test set: Average loss: 0.0903, Accuracy: 9764/10000 (97.64%)\n",
      "\n",
      "EPOCH: 1\n"
     ]
    },
    {
     "name": "stderr",
     "output_type": "stream",
     "text": [
      "Loss=0.06146429106593132 Batch_id=468 Accuracy=98.32: 100%|██████████| 469/469 [00:04<00:00, 116.26it/s] \n"
     ]
    },
    {
     "name": "stdout",
     "output_type": "stream",
     "text": [
      "\n",
      "Test set: Average loss: 0.0600, Accuracy: 9813/10000 (98.13%)\n",
      "\n",
      "EPOCH: 2\n"
     ]
    },
    {
     "name": "stderr",
     "output_type": "stream",
     "text": [
      "Loss=0.10938366502523422 Batch_id=468 Accuracy=98.63: 100%|██████████| 469/469 [00:04<00:00, 116.13it/s] \n"
     ]
    },
    {
     "name": "stdout",
     "output_type": "stream",
     "text": [
      "\n",
      "Test set: Average loss: 0.0498, Accuracy: 9859/10000 (98.59%)\n",
      "\n",
      "EPOCH: 3\n"
     ]
    },
    {
     "name": "stderr",
     "output_type": "stream",
     "text": [
      "Loss=0.022532431408762932 Batch_id=468 Accuracy=98.80: 100%|██████████| 469/469 [00:04<00:00, 114.18it/s]\n"
     ]
    },
    {
     "name": "stdout",
     "output_type": "stream",
     "text": [
      "\n",
      "Test set: Average loss: 0.0470, Accuracy: 9858/10000 (98.58%)\n",
      "\n",
      "EPOCH: 4\n"
     ]
    },
    {
     "name": "stderr",
     "output_type": "stream",
     "text": [
      "Loss=0.08851951360702515 Batch_id=468 Accuracy=98.94: 100%|██████████| 469/469 [00:04<00:00, 115.34it/s] \n"
     ]
    },
    {
     "name": "stdout",
     "output_type": "stream",
     "text": [
      "\n",
      "Test set: Average loss: 0.0355, Accuracy: 9890/10000 (98.90%)\n",
      "\n",
      "EPOCH: 5\n"
     ]
    },
    {
     "name": "stderr",
     "output_type": "stream",
     "text": [
      "Loss=0.027425440028309822 Batch_id=468 Accuracy=99.03: 100%|██████████| 469/469 [00:03<00:00, 118.13it/s] \n"
     ]
    },
    {
     "name": "stdout",
     "output_type": "stream",
     "text": [
      "\n",
      "Test set: Average loss: 0.0376, Accuracy: 9889/10000 (98.89%)\n",
      "\n",
      "EPOCH: 6\n"
     ]
    },
    {
     "name": "stderr",
     "output_type": "stream",
     "text": [
      "Loss=0.026945559307932854 Batch_id=468 Accuracy=99.08: 100%|██████████| 469/469 [00:03<00:00, 118.40it/s] \n"
     ]
    },
    {
     "name": "stdout",
     "output_type": "stream",
     "text": [
      "\n",
      "Test set: Average loss: 0.0378, Accuracy: 9891/10000 (98.91%)\n",
      "\n",
      "EPOCH: 7\n"
     ]
    },
    {
     "name": "stderr",
     "output_type": "stream",
     "text": [
      "Loss=0.013714714907109737 Batch_id=468 Accuracy=99.42: 100%|██████████| 469/469 [00:04<00:00, 115.59it/s] \n"
     ]
    },
    {
     "name": "stdout",
     "output_type": "stream",
     "text": [
      "\n",
      "Test set: Average loss: 0.0252, Accuracy: 9916/10000 (99.16%)\n",
      "\n",
      "EPOCH: 8\n"
     ]
    },
    {
     "name": "stderr",
     "output_type": "stream",
     "text": [
      "Loss=0.01595371775329113 Batch_id=468 Accuracy=99.49: 100%|██████████| 469/469 [00:04<00:00, 116.16it/s]  \n"
     ]
    },
    {
     "name": "stdout",
     "output_type": "stream",
     "text": [
      "\n",
      "Test set: Average loss: 0.0252, Accuracy: 9917/10000 (99.17%)\n",
      "\n",
      "EPOCH: 9\n"
     ]
    },
    {
     "name": "stderr",
     "output_type": "stream",
     "text": [
      "Loss=0.03296385332942009 Batch_id=468 Accuracy=99.52: 100%|██████████| 469/469 [00:03<00:00, 117.50it/s]  \n"
     ]
    },
    {
     "name": "stdout",
     "output_type": "stream",
     "text": [
      "\n",
      "Test set: Average loss: 0.0252, Accuracy: 9913/10000 (99.13%)\n",
      "\n",
      "EPOCH: 10\n"
     ]
    },
    {
     "name": "stderr",
     "output_type": "stream",
     "text": [
      "Loss=0.006611172575503588 Batch_id=468 Accuracy=99.56: 100%|██████████| 469/469 [00:04<00:00, 117.00it/s] \n"
     ]
    },
    {
     "name": "stdout",
     "output_type": "stream",
     "text": [
      "\n",
      "Test set: Average loss: 0.0252, Accuracy: 9912/10000 (99.12%)\n",
      "\n",
      "EPOCH: 11\n"
     ]
    },
    {
     "name": "stderr",
     "output_type": "stream",
     "text": [
      "Loss=0.03768206387758255 Batch_id=468 Accuracy=99.55: 100%|██████████| 469/469 [00:04<00:00, 115.86it/s]  \n"
     ]
    },
    {
     "name": "stdout",
     "output_type": "stream",
     "text": [
      "\n",
      "Test set: Average loss: 0.0245, Accuracy: 9919/10000 (99.19%)\n",
      "\n",
      "EPOCH: 12\n"
     ]
    },
    {
     "name": "stderr",
     "output_type": "stream",
     "text": [
      "Loss=0.008331075310707092 Batch_id=468 Accuracy=99.58: 100%|██████████| 469/469 [00:04<00:00, 117.18it/s] \n"
     ]
    },
    {
     "name": "stdout",
     "output_type": "stream",
     "text": [
      "\n",
      "Test set: Average loss: 0.0246, Accuracy: 9919/10000 (99.19%)\n",
      "\n",
      "EPOCH: 13\n"
     ]
    },
    {
     "name": "stderr",
     "output_type": "stream",
     "text": [
      "Loss=0.01357539463788271 Batch_id=468 Accuracy=99.57: 100%|██████████| 469/469 [00:04<00:00, 113.39it/s]  \n"
     ]
    },
    {
     "name": "stdout",
     "output_type": "stream",
     "text": [
      "\n",
      "Test set: Average loss: 0.0253, Accuracy: 9916/10000 (99.16%)\n",
      "\n",
      "EPOCH: 14\n"
     ]
    },
    {
     "name": "stderr",
     "output_type": "stream",
     "text": [
      "Loss=0.023533880710601807 Batch_id=468 Accuracy=99.63: 100%|██████████| 469/469 [00:04<00:00, 117.05it/s] \n"
     ]
    },
    {
     "name": "stdout",
     "output_type": "stream",
     "text": [
      "\n",
      "Test set: Average loss: 0.0249, Accuracy: 9917/10000 (99.17%)\n",
      "\n"
     ]
    }
   ],
   "source": [
    "model = Net().to(device)\n",
    "optimizer = optim.SGD(model.parameters(),lr=0.1,momentum=0.9)\n",
    "scheduler = StepLR(optimizer, step_size=7, gamma=0.1)\n",
    "EPOCHS = 15\n",
    "for epoch in range(EPOCHS):\n",
    "  print(\"EPOCH:\",epoch)\n",
    "  train(model, device,train_loader,optimizer,epoch)\n",
    "  scheduler.step()\n",
    "  test(model,device,test_loader)"
   ]
  },
  {
   "cell_type": "markdown",
   "metadata": {
    "id": "f-70Ru1uZNOX"
   },
   "source": [
    "### Loss and Accuracy Plot"
   ]
  },
  {
   "cell_type": "code",
   "execution_count": 10,
   "metadata": {
    "colab": {
     "base_uri": "https://localhost:8080/",
     "height": 870
    },
    "executionInfo": {
     "elapsed": 1899,
     "status": "ok",
     "timestamp": 1733762517418,
     "user": {
      "displayName": "Ezhirko Arulmozhi",
      "userId": "16774972310128518178"
     },
     "user_tz": -330
    },
    "id": "koHtryGtZMjh",
    "outputId": "22a7f269-b974-4a4a-8953-b9b82eada766"
   },
   "outputs": [
    {
     "data": {
      "text/plain": [
       "Text(0.5, 1.0, 'Test Accuracy')"
      ]
     },
     "execution_count": 10,
     "metadata": {},
     "output_type": "execute_result"
    },
    {
     "data": {
      "image/png": "[encoded data removed]",
      "text/plain": [
       "<Figure size 1500x1000 with 4 Axes>"
      ]
     },
     "metadata": {},
     "output_type": "display_data"
    }
   ],
   "source": [
    "fig, axs = plt.subplots(2,2,figsize=(15,10))\n",
    "# Move tensors to CPU and convert to NumPy\n",
    "train_losses_cpu = [loss.cpu().item() if torch.is_tensor(loss) else loss for loss in train_losses]\n",
    "train_acc_cpu = [acc.cpu().item() if torch.is_tensor(acc) else acc for acc in train_acc]\n",
    "test_losses_cpu = [loss.cpu().item() if torch.is_tensor(loss) else loss for loss in test_losses]\n",
    "test_acc_cpu = [acc.cpu().item() if torch.is_tensor(acc) else acc for acc in test_acc]\n",
    "\n",
    "axs[0, 0].plot(train_losses_cpu)\n",
    "axs[0, 0].set_title(\"Training Loss\")\n",
    "axs[1, 0].plot(train_acc_cpu)\n",
    "axs[1, 0].set_title(\"Training Accuracy\")\n",
    "axs[0, 1].plot(test_losses_cpu)\n",
    "axs[0, 1].set_title(\"Test Loss\")\n",
    "axs[1, 1].plot(test_acc_cpu)\n",
    "axs[1, 1].set_title(\"Test Accuracy\")"
   ]
  },
  {
   "cell_type": "code",
   "execution_count": 10,
   "metadata": {
    "executionInfo": {
     "elapsed": 6,
     "status": "ok",
     "timestamp": 1733762517418,
     "user": {
      "displayName": "Ezhirko Arulmozhi",
      "userId": "16774972310128518178"
     },
     "user_tz": -330
    },
    "id": "p20KN5NKjIWr"
   },
   "outputs": [],
   "source": []
  }
 ],
 "metadata": {
  "colab": {
   "authorship_tag": "ABX9TyPlz/V9NcJBcXp763Xm9Zov",
   "provenance": []
  },
  "kernelspec": {
   "display_name": "pytorch",
   "language": "python",
   "name": "python3"
  },
  "language_info": {
   "codemirror_mode": {
    "name": "ipython",
    "version": 3
   },
   "file_extension": ".py",
   "mimetype": "text/x-python",
   "name": "python",
   "nbconvert_exporter": "python",
   "pygments_lexer": "ipython3",
   "version": "3.11.11"
  }
 },
 "nbformat": 4,
 "nbformat_minor": 0
}
