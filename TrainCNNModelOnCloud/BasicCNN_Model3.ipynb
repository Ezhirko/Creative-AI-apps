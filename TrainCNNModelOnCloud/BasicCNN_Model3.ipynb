{
 "cells": [
  {
   "cell_type": "markdown",
   "metadata": {},
   "source": [
    "### Batch Normalization Version 3\n",
    "\n",
    "##### Target:\n",
    "Add Batch Normalization in each convolution block except the last layer.\n",
    "\n",
    "##### Results:\n",
    "1. Parameters: 7612\n",
    "2. Best Train Accuracy: 99.15%\n",
    "3. Best Test Accuracy: 99.17%\n",
    "\n",
    "##### Analysis:\n",
    "1. The Batch normalization helped to push the train and test accuracies than the previous model.\n",
    "2. Have not met the requirement of 99.4 % test accuracy.\n",
    "3. Implement LR Schedulers in the next version to improve the accuracy."
   ]
  },
  {
   "cell_type": "code",
   "execution_count": 11,
   "metadata": {
    "executionInfo": {
     "elapsed": 580,
     "status": "ok",
     "timestamp": 1733734527916,
     "user": {
      "displayName": "Ezhirko Arulmozhi",
      "userId": "16774972310128518178"
     },
     "user_tz": -330
    },
    "id": "zMTnH-40mJec"
   },
   "outputs": [],
   "source": [
    "import torch\n",
    "import torch.nn as nn\n",
    "import torch.nn.functional as F\n",
    "import torch.optim as optim\n",
    "from torchvision import datasets, transforms\n",
    "%matplotlib inline\n",
    "import matplotlib.pyplot as plt"
   ]
  },
  {
   "cell_type": "markdown",
   "metadata": {
    "id": "E0BsgUAet8jt"
   },
   "source": [
    "### Data Statics"
   ]
  },
  {
   "cell_type": "code",
   "execution_count": 12,
   "metadata": {
    "colab": {
     "base_uri": "https://localhost:8080/"
    },
    "executionInfo": {
     "elapsed": 1329,
     "status": "ok",
     "timestamp": 1733734529921,
     "user": {
      "displayName": "Ezhirko Arulmozhi",
      "userId": "16774972310128518178"
     },
     "user_tz": -330
    },
    "id": "-zk2YraduAEa",
    "outputId": "ac43c698-d6e2-4c71-ed33-e5a41ed0f89f"
   },
   "outputs": [
    {
     "name": "stdout",
     "output_type": "stream",
     "text": [
      "[Train]\n",
      "-Numpy Shape: (60000, 28, 28)\n",
      "-Tensor Shape: torch.Size([60000, 28, 28])\n",
      "-min: tensor(0.)\n",
      "-max: tensor(1.)\n",
      "-mean: tensor(0.1307)\n",
      "-std: tensor(0.3081)\n",
      "-var: tensor(0.0949)\n"
     ]
    }
   ],
   "source": [
    "simple_transforms = transforms.Compose([transforms.ToTensor()])\n",
    "dataset = datasets.MNIST('./data',train = True,transform=simple_transforms,download=True)\n",
    "exp_data = dataset.train_data\n",
    "exp_data = dataset.transform(exp_data.numpy())\n",
    "\n",
    "print('[Train]')\n",
    "print('-Numpy Shape:',dataset.train_data.cpu().numpy().shape)\n",
    "print('-Tensor Shape:',dataset.train_data.size())\n",
    "print('-min:',torch.min(exp_data))\n",
    "print('-max:',torch.max(exp_data))\n",
    "print('-mean:',torch.mean(exp_data))\n",
    "print('-std:',torch.std(exp_data))\n",
    "print('-var:',torch.var(exp_data))"
   ]
  },
  {
   "cell_type": "markdown",
   "metadata": {
    "id": "xAOly4BYn73P"
   },
   "source": [
    " ### Data Transformation\n",
    "\n",
    " We first start with defining our data transformations. We need to think what our data is and how can we augment it to correct represent images which it might not see otherwise."
   ]
  },
  {
   "cell_type": "code",
   "execution_count": 13,
   "metadata": {
    "executionInfo": {
     "elapsed": 5,
     "status": "ok",
     "timestamp": 1733734529921,
     "user": {
      "displayName": "Ezhirko Arulmozhi",
      "userId": "16774972310128518178"
     },
     "user_tz": -330
    },
    "id": "-J4agwvEmuY2"
   },
   "outputs": [],
   "source": [
    "train_transforms = transforms.Compose(\n",
    "    [transforms.ToTensor(),\n",
    "     transforms.Normalize((0.1307,), (0.3081,))\n",
    "     ]\n",
    ")\n",
    "test_transforms = transforms.Compose(\n",
    "    [\n",
    "        transforms.ToTensor(),\n",
    "        transforms.Normalize((0.1307,), (0.3081,))\n",
    "    ]\n",
    ")"
   ]
  },
  {
   "cell_type": "markdown",
   "metadata": {
    "id": "P-bJYKnUzOHC"
   },
   "source": [
    "### Create Train and Test Data"
   ]
  },
  {
   "cell_type": "code",
   "execution_count": 14,
   "metadata": {
    "executionInfo": {
     "elapsed": 6,
     "status": "ok",
     "timestamp": 1733734529922,
     "user": {
      "displayName": "Ezhirko Arulmozhi",
      "userId": "16774972310128518178"
     },
     "user_tz": -330
    },
    "id": "HFlTYrDpn4eP"
   },
   "outputs": [],
   "source": [
    "train = datasets.MNIST('./data',train=True,transform=train_transforms)\n",
    "test = datasets.MNIST('./data',train=False,transform=train_transforms)"
   ]
  },
  {
   "cell_type": "markdown",
   "metadata": {
    "id": "2JvnZYVM1G4f"
   },
   "source": [
    "### Dataloader Arguments"
   ]
  },
  {
   "cell_type": "code",
   "execution_count": 15,
   "metadata": {
    "colab": {
     "base_uri": "https://localhost:8080/"
    },
    "executionInfo": {
     "elapsed": 6,
     "status": "ok",
     "timestamp": 1733734529922,
     "user": {
      "displayName": "Ezhirko Arulmozhi",
      "userId": "16774972310128518178"
     },
     "user_tz": -330
    },
    "id": "OyUHi0HTzcU5",
    "outputId": "8171b19b-1d43-4c37-cdc2-91ac019e2949"
   },
   "outputs": [
    {
     "name": "stdout",
     "output_type": "stream",
     "text": [
      "CUDA Available ?: True\n"
     ]
    }
   ],
   "source": [
    "SEED = 1\n",
    "cuda = torch.cuda.is_available()\n",
    "print(\"CUDA Available ?:\",cuda)\n",
    "\n",
    "torch.manual_seed(SEED)\n",
    "if cuda:\n",
    "  torch.cuda.manual_seed(SEED)\n",
    "\n",
    "dataloader_args = dict(shuffle=True, batch_size=128, num_workers=4,pin_memory=True) if cuda else dict(shuffle=True,batch_size = 64)\n",
    "\n",
    "train_loader = torch.utils.data.DataLoader(train, **dataloader_args)\n",
    "test_loader = torch.utils.data.DataLoader(test, **dataloader_args)"
   ]
  },
  {
   "cell_type": "markdown",
   "metadata": {
    "id": "Q7TBKF_I3Eap"
   },
   "source": [
    "### The Model Architecture"
   ]
  },
  {
   "cell_type": "code",
   "execution_count": 16,
   "metadata": {
    "executionInfo": {
     "elapsed": 4,
     "status": "ok",
     "timestamp": 1733734529922,
     "user": {
      "displayName": "Ezhirko Arulmozhi",
      "userId": "16774972310128518178"
     },
     "user_tz": -330
    },
    "id": "KNhvelc02UkN"
   },
   "outputs": [],
   "source": [
    "class Net(nn.Module):\n",
    "  def __init__(self):\n",
    "    super(Net, self).__init__()\n",
    "    #Input Block\n",
    "    self.convblock1 = nn.Sequential(\n",
    "        nn.Conv2d(in_channels=1,out_channels=8,kernel_size=(3,3),padding=0,bias=False),\n",
    "        nn.ReLU(),\n",
    "        nn.BatchNorm2d(num_features=8)\n",
    "    ) #Input size = 28, Output Size = 26, RFout = 3\n",
    "\n",
    "    #Convolution Block 1\n",
    "    self.convblock2 = nn.Sequential(\n",
    "        nn.Conv2d(in_channels=8, out_channels=16,kernel_size=(3,3),padding=0,bias=False),\n",
    "        nn.ReLU(),\n",
    "        nn.BatchNorm2d(num_features=16)\n",
    "    ) #Input size = 26, Output Size = 24, RFout = 5\n",
    "\n",
    "    #Transition Block 1\n",
    "    self.pool1 = nn.MaxPool2d(2,2) #Input size = 24, Output Size = 12, RFout = 6\n",
    "    self.convblock3 = nn.Sequential(\n",
    "        nn.Conv2d(in_channels=16, out_channels=8,kernel_size=(1,1),padding=0,bias=False),\n",
    "        nn.ReLU(),\n",
    "        nn.BatchNorm2d(num_features=8)\n",
    "    )#Input size = 12, Output Size = 12, RFout = 6\n",
    "\n",
    "    #Convolution Block 2\n",
    "    self.convblock4 = nn.Sequential(\n",
    "        nn.Conv2d(in_channels=8,out_channels=16,kernel_size=(3,3),padding=0,bias=False),\n",
    "        nn.ReLU(),\n",
    "        nn.BatchNorm2d(num_features=16)\n",
    "    )#Input size = 12, Output Size = 10, RFout = 10\n",
    "    self.convblock5 = nn.Sequential(\n",
    "        nn.Conv2d(in_channels=16,out_channels=32,kernel_size=(3,3),padding=0,bias=False),\n",
    "        nn.ReLU(),\n",
    "        nn.BatchNorm2d(num_features=32)\n",
    "    )#Input size = 10, Output Size = 8, RFout = 14\n",
    "\n",
    "    #Output block\n",
    "    self.convblock6 = nn.Sequential(\n",
    "        nn.Conv2d(in_channels=32,out_channels=10,kernel_size=(1,1),padding=0,bias=False),\n",
    "        nn.ReLU(),\n",
    "        nn.BatchNorm2d(num_features=10)\n",
    "    )#Input size = 8, Output Size = 8, RFout = 14\n",
    "    self.convblock7 = nn.Sequential(\n",
    "        nn.AvgPool2d(kernel_size=(8,8))\n",
    "    )#Input size = 8, Output Size = 1, RFout = 28\n",
    "\n",
    "  def forward(self,x):\n",
    "    x = self.convblock1(x)\n",
    "    x = self.convblock2(x)\n",
    "    x = self.pool1(x)\n",
    "    x = self.convblock3(x)\n",
    "    x = self.convblock4(x)\n",
    "    x = self.convblock5(x)\n",
    "    x = self.convblock6(x)\n",
    "    x = self.convblock7(x)\n",
    "    x = x.view(-1,10)\n",
    "    return F.log_softmax(x,dim=-1)\n",
    "\n"
   ]
  },
  {
   "cell_type": "markdown",
   "metadata": {
    "id": "QSub2kArMxju"
   },
   "source": [
    "### Check the model parameters"
   ]
  },
  {
   "cell_type": "code",
   "execution_count": 17,
   "metadata": {
    "colab": {
     "base_uri": "https://localhost:8080/"
    },
    "executionInfo": {
     "elapsed": 2554,
     "status": "ok",
     "timestamp": 1733734532472,
     "user": {
      "displayName": "Ezhirko Arulmozhi",
      "userId": "16774972310128518178"
     },
     "user_tz": -330
    },
    "id": "ARJl7Sbn8oXY",
    "outputId": "c222471e-3624-40fb-8911-104e0bc556b2"
   },
   "outputs": [
    {
     "name": "stdout",
     "output_type": "stream",
     "text": [
      "Requirement already satisfied: torchsummary in /usr/local/lib/python3.10/dist-packages (1.5.1)\n",
      "cuda\n",
      "----------------------------------------------------------------\n",
      "        Layer (type)               Output Shape         Param #\n",
      "================================================================\n",
      "            Conv2d-1            [-1, 8, 26, 26]              72\n",
      "              ReLU-2            [-1, 8, 26, 26]               0\n",
      "       BatchNorm2d-3            [-1, 8, 26, 26]              16\n",
      "            Conv2d-4           [-1, 16, 24, 24]           1,152\n",
      "              ReLU-5           [-1, 16, 24, 24]               0\n",
      "       BatchNorm2d-6           [-1, 16, 24, 24]              32\n",
      "         MaxPool2d-7           [-1, 16, 12, 12]               0\n",
      "            Conv2d-8            [-1, 8, 12, 12]             128\n",
      "              ReLU-9            [-1, 8, 12, 12]               0\n",
      "      BatchNorm2d-10            [-1, 8, 12, 12]              16\n",
      "           Conv2d-11           [-1, 16, 10, 10]           1,152\n",
      "             ReLU-12           [-1, 16, 10, 10]               0\n",
      "      BatchNorm2d-13           [-1, 16, 10, 10]              32\n",
      "           Conv2d-14             [-1, 32, 8, 8]           4,608\n",
      "             ReLU-15             [-1, 32, 8, 8]               0\n",
      "      BatchNorm2d-16             [-1, 32, 8, 8]              64\n",
      "           Conv2d-17             [-1, 10, 8, 8]             320\n",
      "             ReLU-18             [-1, 10, 8, 8]               0\n",
      "      BatchNorm2d-19             [-1, 10, 8, 8]              20\n",
      "        AvgPool2d-20             [-1, 10, 1, 1]               0\n",
      "================================================================\n",
      "Total params: 7,612\n",
      "Trainable params: 7,612\n",
      "Non-trainable params: 0\n",
      "----------------------------------------------------------------\n",
      "Input size (MB): 0.00\n",
      "Forward/backward pass size (MB): 0.48\n",
      "Params size (MB): 0.03\n",
      "Estimated Total Size (MB): 0.51\n",
      "----------------------------------------------------------------\n"
     ]
    }
   ],
   "source": [
    "!pip install torchsummary\n",
    "from torchsummary import summary\n",
    "\n",
    "use_cuda = torch.cuda.is_available()\n",
    "device = torch.device(\"cuda\" if use_cuda else \"cpu\")\n",
    "print(device)\n",
    "model = Net().to(device)\n",
    "summary(model, input_size=(1, 28, 28))"
   ]
  },
  {
   "cell_type": "markdown",
   "metadata": {
    "id": "wa4uooegN21Z"
   },
   "source": [
    "Training and Testing"
   ]
  },
  {
   "cell_type": "code",
   "execution_count": 18,
   "metadata": {
    "executionInfo": {
     "elapsed": 4,
     "status": "ok",
     "timestamp": 1733734532472,
     "user": {
      "displayName": "Ezhirko Arulmozhi",
      "userId": "16774972310128518178"
     },
     "user_tz": -330
    },
    "id": "dUX1T9zeNqIF"
   },
   "outputs": [],
   "source": [
    "from tqdm import tqdm\n",
    "\n",
    "train_losses = []\n",
    "test_losses = []\n",
    "train_acc = []\n",
    "test_acc = []\n",
    "\n",
    "def train(model, device, train_loader, optimizer, epoch):\n",
    "  model.train()\n",
    "  pbar = tqdm(train_loader)\n",
    "  correct = 0\n",
    "  processed = 0\n",
    "  for batch_idx, (data, target) in enumerate(pbar):\n",
    "    # get samples\n",
    "    data, target = data.to(device), target.to(device)\n",
    "\n",
    "    # Init\n",
    "    optimizer.zero_grad()\n",
    "    # In PyTorch, we need to set the gradients to zero before starting to do backpropragation because PyTorch accumulates the gradients on subsequent backward passes.\n",
    "    # Because of this, when you start your training loop, ideally you should zero out the gradients so that you do the parameter update correctly.\n",
    "\n",
    "    # Predict\n",
    "    y_pred = model(data)\n",
    "\n",
    "    # Calculate loss\n",
    "    loss = F.nll_loss(y_pred, target)\n",
    "    train_losses.append(loss)\n",
    "\n",
    "    # Backpropagation\n",
    "    loss.backward()\n",
    "    optimizer.step()\n",
    "\n",
    "    # Update pbar-tqdm\n",
    "\n",
    "    pred = y_pred.argmax(dim=1, keepdim=True)  # get the index of the max log-probability\n",
    "    correct += pred.eq(target.view_as(pred)).sum().item()\n",
    "    processed += len(data)\n",
    "\n",
    "    pbar.set_description(desc= f'Loss={loss.item()} Batch_id={batch_idx} Accuracy={100*correct/processed:0.2f}')\n",
    "    train_acc.append(100*correct/processed)\n",
    "\n",
    "def test(model, device, test_loader):\n",
    "    model.eval()\n",
    "    test_loss = 0\n",
    "    correct = 0\n",
    "    with torch.no_grad():\n",
    "        for data, target in test_loader:\n",
    "            data, target = data.to(device), target.to(device)\n",
    "            output = model(data)\n",
    "            test_loss += F.nll_loss(output, target, reduction='sum').item()  # sum up batch loss\n",
    "            pred = output.argmax(dim=1, keepdim=True)  # get the index of the max log-probability\n",
    "            correct += pred.eq(target.view_as(pred)).sum().item()\n",
    "\n",
    "    test_loss /= len(test_loader.dataset)\n",
    "    test_losses.append(test_loss)\n",
    "\n",
    "    print('\\nTest set: Average loss: {:.4f}, Accuracy: {}/{} ({:.2f}%)\\n'.format(\n",
    "        test_loss, correct, len(test_loader.dataset),\n",
    "        100. * correct / len(test_loader.dataset)))\n",
    "\n",
    "    test_acc.append(100. * correct / len(test_loader.dataset))"
   ]
  },
  {
   "cell_type": "markdown",
   "metadata": {
    "id": "ZvKr_1eoX8l6"
   },
   "source": [
    "### Train the Model"
   ]
  },
  {
   "cell_type": "code",
   "execution_count": 19,
   "metadata": {
    "colab": {
     "base_uri": "https://localhost:8080/"
    },
    "executionInfo": {
     "elapsed": 303582,
     "status": "ok",
     "timestamp": 1733734836050,
     "user": {
      "displayName": "Ezhirko Arulmozhi",
      "userId": "16774972310128518178"
     },
     "user_tz": -330
    },
    "id": "LVUzruafYCPK",
    "outputId": "97f98f8b-1b56-4383-a18e-266447ac04d2"
   },
   "outputs": [
    {
     "name": "stdout",
     "output_type": "stream",
     "text": [
      "EPOCH: 0\n"
     ]
    },
    {
     "name": "stderr",
     "output_type": "stream",
     "text": [
      "Loss=0.31839773058891296 Batch_id=468 Accuracy=88.80: 100%|██████████| 469/469 [00:24<00:00, 19.44it/s]\n"
     ]
    },
    {
     "name": "stdout",
     "output_type": "stream",
     "text": [
      "\n",
      "Test set: Average loss: 0.2096, Accuracy: 9684/10000 (96.84%)\n",
      "\n",
      "EPOCH: 1\n"
     ]
    },
    {
     "name": "stderr",
     "output_type": "stream",
     "text": [
      "Loss=0.13799284398555756 Batch_id=468 Accuracy=97.27: 100%|██████████| 469/469 [00:16<00:00, 28.19it/s]\n"
     ]
    },
    {
     "name": "stdout",
     "output_type": "stream",
     "text": [
      "\n",
      "Test set: Average loss: 0.1199, Accuracy: 9771/10000 (97.71%)\n",
      "\n",
      "EPOCH: 2\n"
     ]
    },
    {
     "name": "stderr",
     "output_type": "stream",
     "text": [
      "Loss=0.19438403844833374 Batch_id=468 Accuracy=97.92: 100%|██████████| 469/469 [00:16<00:00, 27.82it/s]\n"
     ]
    },
    {
     "name": "stdout",
     "output_type": "stream",
     "text": [
      "\n",
      "Test set: Average loss: 0.0842, Accuracy: 9836/10000 (98.36%)\n",
      "\n",
      "EPOCH: 3\n"
     ]
    },
    {
     "name": "stderr",
     "output_type": "stream",
     "text": [
      "Loss=0.06252170354127884 Batch_id=468 Accuracy=98.17: 100%|██████████| 469/469 [00:17<00:00, 26.87it/s]\n"
     ]
    },
    {
     "name": "stdout",
     "output_type": "stream",
     "text": [
      "\n",
      "Test set: Average loss: 0.0845, Accuracy: 9831/10000 (98.31%)\n",
      "\n",
      "EPOCH: 4\n"
     ]
    },
    {
     "name": "stderr",
     "output_type": "stream",
     "text": [
      "Loss=0.10462790727615356 Batch_id=468 Accuracy=98.45: 100%|██████████| 469/469 [00:16<00:00, 28.18it/s]\n"
     ]
    },
    {
     "name": "stdout",
     "output_type": "stream",
     "text": [
      "\n",
      "Test set: Average loss: 0.0633, Accuracy: 9862/10000 (98.62%)\n",
      "\n",
      "EPOCH: 5\n"
     ]
    },
    {
     "name": "stderr",
     "output_type": "stream",
     "text": [
      "Loss=0.058799806982278824 Batch_id=468 Accuracy=98.53: 100%|██████████| 469/469 [00:17<00:00, 26.18it/s]\n"
     ]
    },
    {
     "name": "stdout",
     "output_type": "stream",
     "text": [
      "\n",
      "Test set: Average loss: 0.0600, Accuracy: 9870/10000 (98.70%)\n",
      "\n",
      "EPOCH: 6\n"
     ]
    },
    {
     "name": "stderr",
     "output_type": "stream",
     "text": [
      "Loss=0.05664271488785744 Batch_id=468 Accuracy=98.67: 100%|██████████| 469/469 [00:17<00:00, 26.62it/s]\n"
     ]
    },
    {
     "name": "stdout",
     "output_type": "stream",
     "text": [
      "\n",
      "Test set: Average loss: 0.0538, Accuracy: 9877/10000 (98.77%)\n",
      "\n",
      "EPOCH: 7\n"
     ]
    },
    {
     "name": "stderr",
     "output_type": "stream",
     "text": [
      "Loss=0.02994503080844879 Batch_id=468 Accuracy=98.77: 100%|██████████| 469/469 [00:17<00:00, 27.56it/s]\n"
     ]
    },
    {
     "name": "stdout",
     "output_type": "stream",
     "text": [
      "\n",
      "Test set: Average loss: 0.0483, Accuracy: 9884/10000 (98.84%)\n",
      "\n",
      "EPOCH: 8\n"
     ]
    },
    {
     "name": "stderr",
     "output_type": "stream",
     "text": [
      "Loss=0.0699331983923912 Batch_id=468 Accuracy=98.85: 100%|██████████| 469/469 [00:17<00:00, 27.35it/s]\n"
     ]
    },
    {
     "name": "stdout",
     "output_type": "stream",
     "text": [
      "\n",
      "Test set: Average loss: 0.0455, Accuracy: 9894/10000 (98.94%)\n",
      "\n",
      "EPOCH: 9\n"
     ]
    },
    {
     "name": "stderr",
     "output_type": "stream",
     "text": [
      "Loss=0.07953297346830368 Batch_id=468 Accuracy=98.91: 100%|██████████| 469/469 [00:17<00:00, 27.39it/s]\n"
     ]
    },
    {
     "name": "stdout",
     "output_type": "stream",
     "text": [
      "\n",
      "Test set: Average loss: 0.0506, Accuracy: 9889/10000 (98.89%)\n",
      "\n",
      "EPOCH: 10\n"
     ]
    },
    {
     "name": "stderr",
     "output_type": "stream",
     "text": [
      "Loss=0.020251860842108727 Batch_id=468 Accuracy=98.97: 100%|██████████| 469/469 [00:17<00:00, 26.95it/s]\n"
     ]
    },
    {
     "name": "stdout",
     "output_type": "stream",
     "text": [
      "\n",
      "Test set: Average loss: 0.0400, Accuracy: 9903/10000 (99.03%)\n",
      "\n",
      "EPOCH: 11\n"
     ]
    },
    {
     "name": "stderr",
     "output_type": "stream",
     "text": [
      "Loss=0.06469886004924774 Batch_id=468 Accuracy=99.03: 100%|██████████| 469/469 [00:17<00:00, 26.66it/s]\n"
     ]
    },
    {
     "name": "stdout",
     "output_type": "stream",
     "text": [
      "\n",
      "Test set: Average loss: 0.0421, Accuracy: 9903/10000 (99.03%)\n",
      "\n",
      "EPOCH: 12\n"
     ]
    },
    {
     "name": "stderr",
     "output_type": "stream",
     "text": [
      "Loss=0.02515634335577488 Batch_id=468 Accuracy=99.06: 100%|██████████| 469/469 [00:17<00:00, 27.13it/s]\n"
     ]
    },
    {
     "name": "stdout",
     "output_type": "stream",
     "text": [
      "\n",
      "Test set: Average loss: 0.0380, Accuracy: 9911/10000 (99.11%)\n",
      "\n",
      "EPOCH: 13\n"
     ]
    },
    {
     "name": "stderr",
     "output_type": "stream",
     "text": [
      "Loss=0.0697459951043129 Batch_id=468 Accuracy=99.08: 100%|██████████| 469/469 [00:18<00:00, 25.67it/s]\n"
     ]
    },
    {
     "name": "stdout",
     "output_type": "stream",
     "text": [
      "\n",
      "Test set: Average loss: 0.0396, Accuracy: 9896/10000 (98.96%)\n",
      "\n",
      "EPOCH: 14\n"
     ]
    },
    {
     "name": "stderr",
     "output_type": "stream",
     "text": [
      "Loss=0.07960278540849686 Batch_id=468 Accuracy=99.15: 100%|██████████| 469/469 [00:16<00:00, 27.59it/s]\n"
     ]
    },
    {
     "name": "stdout",
     "output_type": "stream",
     "text": [
      "\n",
      "Test set: Average loss: 0.0361, Accuracy: 9917/10000 (99.17%)\n",
      "\n"
     ]
    }
   ],
   "source": [
    "model = Net().to(device)\n",
    "optimizer = optim.SGD(model.parameters(),lr=0.01,momentum=0.9)\n",
    "EPOCHS = 15\n",
    "for epoch in range(EPOCHS):\n",
    "  print(\"EPOCH:\",epoch)\n",
    "  train(model, device,train_loader,optimizer,epoch)\n",
    "  test(model,device,test_loader)"
   ]
  },
  {
   "cell_type": "markdown",
   "metadata": {
    "id": "f-70Ru1uZNOX"
   },
   "source": [
    "### Loss and Accuracy Plot"
   ]
  },
  {
   "cell_type": "code",
   "execution_count": 20,
   "metadata": {
    "colab": {
     "base_uri": "https://localhost:8080/",
     "height": 817
    },
    "executionInfo": {
     "elapsed": 1173,
     "status": "ok",
     "timestamp": 1733734837219,
     "user": {
      "displayName": "Ezhirko Arulmozhi",
      "userId": "16774972310128518178"
     },
     "user_tz": -330
    },
    "id": "koHtryGtZMjh",
    "outputId": "514dc1e4-436c-441e-de3b-e1f5ac047b19"
   },
   "outputs": [
    {
     "data": {
      "text/plain": [
       "Text(0.5, 1.0, 'Test Accuracy')"
      ]
     },
     "execution_count": 20,
     "metadata": {},
     "output_type": "execute_result"
    },
    {
     "data": {
      "image/png": "[encoded data removed]",
      "text/plain": [
       "<Figure size 1500x1000 with 4 Axes>"
      ]
     },
     "metadata": {},
     "output_type": "display_data"
    }
   ],
   "source": [
    "fig, axs = plt.subplots(2,2,figsize=(15,10))\n",
    "# Move tensors to CPU and convert to NumPy\n",
    "train_losses_cpu = [loss.cpu().item() if torch.is_tensor(loss) else loss for loss in train_losses]\n",
    "train_acc_cpu = [acc.cpu().item() if torch.is_tensor(acc) else acc for acc in train_acc]\n",
    "test_losses_cpu = [loss.cpu().item() if torch.is_tensor(loss) else loss for loss in test_losses]\n",
    "test_acc_cpu = [acc.cpu().item() if torch.is_tensor(acc) else acc for acc in test_acc]\n",
    "\n",
    "axs[0, 0].plot(train_losses_cpu)\n",
    "axs[0, 0].set_title(\"Training Loss\")\n",
    "axs[1, 0].plot(train_acc_cpu)\n",
    "axs[1, 0].set_title(\"Training Accuracy\")\n",
    "axs[0, 1].plot(test_losses_cpu)\n",
    "axs[0, 1].set_title(\"Test Loss\")\n",
    "axs[1, 1].plot(test_acc_cpu)\n",
    "axs[1, 1].set_title(\"Test Accuracy\")"
   ]
  },
  {
   "cell_type": "code",
   "execution_count": 20,
   "metadata": {
    "executionInfo": {
     "elapsed": 4,
     "status": "ok",
     "timestamp": 1733734837219,
     "user": {
      "displayName": "Ezhirko Arulmozhi",
      "userId": "16774972310128518178"
     },
     "user_tz": -330
    },
    "id": "p20KN5NKjIWr"
   },
   "outputs": [],
   "source": []
  }
 ],
 "metadata": {
  "accelerator": "GPU",
  "colab": {
   "authorship_tag": "ABX9TyPWbENQ53YggpNU4WDqnG5s",
   "gpuType": "T4",
   "provenance": []
  },
  "kernelspec": {
   "display_name": "Python 3",
   "name": "python3"
  },
  "language_info": {
   "name": "python"
  }
 },
 "nbformat": 4,
 "nbformat_minor": 0
}
