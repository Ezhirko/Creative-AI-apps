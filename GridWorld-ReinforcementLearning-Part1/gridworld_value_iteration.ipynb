{
 "cells": [
  {
   "cell_type": "code",
   "execution_count": null,
   "metadata": {},
   "outputs": [],
   "source": [
    "import numpy as np"
   ]
  },
  {
   "cell_type": "code",
   "execution_count": 2,
   "metadata": {},
   "outputs": [],
   "source": [
    "def value_iteration(grid_size=4, gamma=1.0, theta=1e-4):\n",
    "    num_states = grid_size * grid_size\n",
    "    V = np.zeros(num_states)  # Initialize value function\n",
    "    actions = [-grid_size, grid_size, -1, 1]  # Up, Down, Left, Right\n",
    "    terminal_state = num_states - 1  # Bottom-right corner\n",
    "    \n",
    "    while True:\n",
    "        delta = 0\n",
    "        V_new = np.copy(V)\n",
    "        \n",
    "        for s in range(num_states):\n",
    "            if s == terminal_state:\n",
    "                continue  # Skip terminal state\n",
    "            \n",
    "            v_old = V[s]\n",
    "            action_values = []\n",
    "            \n",
    "            for a in actions:\n",
    "                s_next = s + a\n",
    "                if s_next < 0 or s_next >= num_states:  # Out of bounds vertically\n",
    "                    s_next = s  # Stay in place\n",
    "                if (s % grid_size == 0 and a == -1) or ((s + 1) % grid_size == 0 and a == 1):  # Out of bounds horizontally\n",
    "                    s_next = s  # Stay in place\n",
    "                \n",
    "                action_values.append(-1 + gamma * V[s_next])  # Bellman equation update\n",
    "            \n",
    "            V_new[s] = np.mean(action_values)  # Average over equal-probability actions\n",
    "            delta = max(delta, abs(V_new[s] - v_old))\n",
    "        \n",
    "        V = V_new  # Update value function\n",
    "        \n",
    "        if delta < theta:\n",
    "            break  # Convergence condition met\n",
    "    \n",
    "    return V.reshape((grid_size, grid_size))"
   ]
  },
  {
   "cell_type": "code",
   "execution_count": 3,
   "metadata": {},
   "outputs": [
    {
     "name": "stdout",
     "output_type": "stream",
     "text": [
      "[[-59.42367735 -57.42387125 -54.2813141  -51.71012579]\n",
      " [-57.42387125 -54.56699476 -49.71029394 -45.13926711]\n",
      " [-54.2813141  -49.71029394 -40.85391609 -29.99766609]\n",
      " [-51.71012579 -45.13926711 -29.99766609   0.        ]]\n"
     ]
    }
   ],
   "source": [
    "# Run value iteration\n",
    "final_values = value_iteration()\n",
    "print(final_values)"
   ]
  }
 ],
 "metadata": {
  "kernelspec": {
   "display_name": "Python 3",
   "language": "python",
   "name": "python3"
  },
  "language_info": {
   "codemirror_mode": {
    "name": "ipython",
    "version": 3
   },
   "file_extension": ".py",
   "mimetype": "text/x-python",
   "name": "python",
   "nbconvert_exporter": "python",
   "pygments_lexer": "ipython3",
   "version": "3.11.9"
  }
 },
 "nbformat": 4,
 "nbformat_minor": 2
}
