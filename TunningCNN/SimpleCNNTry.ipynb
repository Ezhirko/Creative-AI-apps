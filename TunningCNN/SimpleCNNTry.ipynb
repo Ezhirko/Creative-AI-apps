{
 "cells": [
  {
   "cell_type": "code",
   "execution_count": null,
   "metadata": {},
   "outputs": [
    {
     "ename": "ImportError",
     "evalue": "cannot import name 'simpleCNN18K' from 'SimpleCNN18K' (d:\\Projects\\ERAV3\\Session6\\SimpleCNN18K.py)",
     "output_type": "error",
     "traceback": [
      "\u001b[1;31m---------------------------------------------------------------------------\u001b[0m",
      "\u001b[1;31mImportError\u001b[0m                               Traceback (most recent call last)",
      "Cell \u001b[1;32mIn[19], line 7\u001b[0m\n\u001b[0;32m      5\u001b[0m \u001b[38;5;28;01mfrom\u001b[39;00m \u001b[38;5;21;01mtorchvision\u001b[39;00m \u001b[38;5;28;01mimport\u001b[39;00m datasets, transforms\n\u001b[0;32m      6\u001b[0m \u001b[38;5;28;01mfrom\u001b[39;00m \u001b[38;5;21;01mtorchsummary\u001b[39;00m \u001b[38;5;28;01mimport\u001b[39;00m summary\n\u001b[1;32m----> 7\u001b[0m \u001b[38;5;28;01mfrom\u001b[39;00m \u001b[38;5;21;01mSimpleCNN18K\u001b[39;00m \u001b[38;5;28;01mimport\u001b[39;00m simpleCNN18K\n",
      "\u001b[1;31mImportError\u001b[0m: cannot import name 'simpleCNN18K' from 'SimpleCNN18K' (d:\\Projects\\ERAV3\\Session6\\SimpleCNN18K.py)"
     ]
    }
   ],
   "source": [
    "import torch\n",
    "import torch.nn as nn\n",
    "import torch.nn.functional as F\n",
    "import torch.optim as optim\n",
    "from torchvision import datasets, transforms\n",
    "from torchsummary import summary\n",
    "from SimpleCNN18K import SimpleCNN18K"
   ]
  },
  {
   "cell_type": "markdown",
   "metadata": {},
   "source": [
    "Assign the Device"
   ]
  },
  {
   "cell_type": "code",
   "execution_count": null,
   "metadata": {},
   "outputs": [
    {
     "name": "stdout",
     "output_type": "stream",
     "text": [
      "cuda\n"
     ]
    }
   ],
   "source": [
    "use_cuda = torch.cuda.is_available()\n",
    "device = torch.device(\"cuda\" if use_cuda else 'cpu')\n",
    "print(device)"
   ]
  },
  {
   "cell_type": "markdown",
   "metadata": {},
   "source": [
    "Download the data"
   ]
  },
  {
   "cell_type": "code",
   "execution_count": null,
   "metadata": {},
   "outputs": [],
   "source": [
    "torch.manual_seed(1)\n",
    "batch_size = 16\n",
    "\n",
    "kwargs = {'num_workers':1,'pin_memory':True} if use_cuda else {}\n",
    "train_loader = torch.utils.data.DataLoader(\n",
    "    datasets.MNIST('../data',train=True,download=True,\n",
    "                   transform=transforms.Compose([transforms.ToTensor(),\n",
    "                                                 transforms.Normalize((0.1307,),(0.3081,))]\n",
    "                   )),batch_size=batch_size,shuffle=True, **kwargs)\n",
    "test_loader = torch.utils.data.DataLoader(\n",
    "    datasets.MNIST('../data',train=False,\n",
    "                   transform=transforms.Compose([transforms.ToTensor(),\n",
    "                                                 transforms.Normalize((0.1307,),(0.3081,))\n",
    "                                                 ])),batch_size=batch_size,shuffle=True,**kwargs)"
   ]
  },
  {
   "cell_type": "markdown",
   "metadata": {},
   "source": [
    "Train and Test Functions"
   ]
  },
  {
   "cell_type": "code",
   "execution_count": null,
   "metadata": {},
   "outputs": [],
   "source": [
    "from tqdm import tqdm\n",
    "\n",
    "def train(model, device, train_loader, optimizer, epoch):\n",
    "  model.train()\n",
    "  train_loss = 0\n",
    "  correct = 0\n",
    "  pbar = tqdm(train_loader)\n",
    "  for batch_idx, (data,target) in enumerate(pbar):\n",
    "    data,target = data.to(device),target.to(device)\n",
    "    optimizer.zero_grad()\n",
    "    output = model(data)\n",
    "    loss = F.nll_loss(output,target)\n",
    "    loss.backward()\n",
    "    optimizer.step()\n",
    "    pbar.set_description(desc=f'loss={loss.item()} batch_id={batch_idx}')\n",
    "    with torch.no_grad():\n",
    "        output = model(data)\n",
    "        pred = output.argmax(dim=1, keepdim=True)  # get the index of the max log-probability\n",
    "        correct += pred.eq(target.view_as(pred)).sum().item()\n",
    "  train_loss /= len(train_loader.dataset)\n",
    "  print('\\n Epoch No: {}'.format(epoch))\n",
    "  print('Train set: Average loss: {:.4f}, Accuracy: {}/{} ({:.2f}%)'.format(\n",
    "    train_loss, correct, len(train_loader.dataset),\n",
    "    100. * float(correct) / len(train_loader.dataset)))\n",
    "\n",
    "def test(model, device, test_loader):\n",
    "  model.eval()\n",
    "  test_loss = 0\n",
    "  correct = 0\n",
    "  with torch.no_grad():\n",
    "    for data,target in test_loader:\n",
    "      data,target = data.to(device),target.to(device)\n",
    "      output = model(data)\n",
    "      test_loss += F.nll_loss(output,target,reduction='sum').item()\n",
    "      pred = output.argmax(dim=1,keepdim=True)\n",
    "      correct += pred.eq(target.view_as(pred)).sum().item()\n",
    "\n",
    "  test_loss /= len(test_loader.dataset)\n",
    "  print('Test set: Average loss: {:.4f}, Accuracy:{}/{} ({:.2f}%)\\n'.format(\n",
    "      test_loss,correct,len(test_loader.dataset),\n",
    "      100. * correct / len(test_loader.dataset)))"
   ]
  },
  {
   "cell_type": "markdown",
   "metadata": {},
   "source": [
    "Define the CNN model with different archicture and check for expected results"
   ]
  },
  {
   "cell_type": "markdown",
   "metadata": {},
   "source": [
    "Version 1"
   ]
  },
  {
   "cell_type": "code",
   "execution_count": null,
   "metadata": {},
   "outputs": [],
   "source": [
    "class Net_v1(nn.Module):\n",
    "  def __init__(self):\n",
    "    super(Net_v1,self).__init__()\n",
    "    self.conv1 = nn.Conv2d(1,8,3,stride=1,padding=1) # input_size = 28, output_size = 28, RF = 3, No_param =\n",
    "    self.conv2 = nn.Conv2d(8,8,3,stride=1,padding=1)# input_size = 28, output_size = 28, RF = 5\n",
    "    self.pool1 = nn.MaxPool2d(2,2)                    # input_size = 28, output_size = 14, RF = 6\n",
    "    self.conv3 = nn.Conv2d(8,16,3,stride=1,padding=1)# input_size = 14, output_size = 14, RF = 10\n",
    "    self.conv4 = nn.Conv2d(16,16,3,stride=1,padding=1)# input_size = 14, output_size = 14, RF = 14\n",
    "    self.pool2 = nn.MaxPool2d(2,2)                      # input_size = 14, output_size = 7, RF = 16\n",
    "    self.conv5 = nn.Conv2d(16,32,3,stride=1,padding=0)# input_size = 7, output_size = 5, RF = 24\n",
    "    self.conv6 = nn.Conv2d(32,32,3,stride=1,padding=0)# input_size = 5, output_size = 3, RF = 32\n",
    "    self.conv7 = nn.Conv2d(32,10,3)                    # input_size = 3, output_size = 1, RF = 40\n",
    "\n",
    "  def forward(self,x):\n",
    "    x = self.pool1(F.relu(self.conv2(F.relu(self.conv1(x)))))\n",
    "    x = self.pool2(F.relu(self.conv4(F.relu(self.conv3(x)))))\n",
    "    x = F.relu(self.conv6(F.relu(self.conv5(x))))\n",
    "    x = self.conv7(x)\n",
    "    x = x.view(-1,10)\n",
    "    return F.log_softmax(x)"
   ]
  },
  {
   "cell_type": "code",
   "execution_count": null,
   "metadata": {},
   "outputs": [
    {
     "name": "stdout",
     "output_type": "stream",
     "text": [
      "----------------------------------------------------------------\n",
      "        Layer (type)               Output Shape         Param #\n",
      "================================================================\n",
      "            Conv2d-1            [-1, 8, 28, 28]              80\n",
      "            Conv2d-2            [-1, 8, 28, 28]             584\n",
      "         MaxPool2d-3            [-1, 8, 14, 14]               0\n",
      "            Conv2d-4           [-1, 16, 14, 14]           1,168\n",
      "            Conv2d-5           [-1, 16, 14, 14]           2,320\n",
      "         MaxPool2d-6             [-1, 16, 7, 7]               0\n",
      "            Conv2d-7             [-1, 32, 5, 5]           4,640\n",
      "            Conv2d-8             [-1, 32, 3, 3]           9,248\n",
      "            Conv2d-9             [-1, 10, 1, 1]           2,890\n",
      "================================================================\n",
      "Total params: 20,930\n",
      "Trainable params: 20,930\n",
      "Non-trainable params: 0\n",
      "----------------------------------------------------------------\n",
      "Input size (MB): 0.00\n",
      "Forward/backward pass size (MB): 0.17\n",
      "Params size (MB): 0.08\n",
      "Estimated Total Size (MB): 0.25\n",
      "----------------------------------------------------------------\n"
     ]
    },
    {
     "name": "stderr",
     "output_type": "stream",
     "text": [
      "C:\\Users\\ic016726\\AppData\\Local\\Temp\\ipykernel_22012\\948642335.py:20: UserWarning: Implicit dimension choice for log_softmax has been deprecated. Change the call to include dim=X as an argument.\n",
      "  return F.log_softmax(x)\n"
     ]
    }
   ],
   "source": [
    "model = Net_v1().to(device)\n",
    "summary(model,input_size=(1,28,28))"
   ]
  },
  {
   "cell_type": "code",
   "execution_count": null,
   "metadata": {},
   "outputs": [
    {
     "name": "stderr",
     "output_type": "stream",
     "text": [
      "  0%|          | 0/3750 [00:00<?, ?it/s]C:\\Users\\ic016726\\AppData\\Local\\Temp\\ipykernel_22012\\948642335.py:20: UserWarning: Implicit dimension choice for log_softmax has been deprecated. Change the call to include dim=X as an argument.\n",
      "  return F.log_softmax(x)\n",
      "loss=0.05615783482789993 batch_id=3749: 100%|██████████| 3750/3750 [00:22<00:00, 164.80it/s]   \n"
     ]
    },
    {
     "name": "stdout",
     "output_type": "stream",
     "text": [
      "\n",
      " Epoch No: 1\n",
      "Train set: Average loss: 0.0000, Accuracy: 56021/60000 (93.37%)\n",
      "Test set: Average loss: 0.0678, Accuracy:58737/60000 (97.89%)\n",
      "\n"
     ]
    },
    {
     "name": "stderr",
     "output_type": "stream",
     "text": [
      "loss=0.008126807399094105 batch_id=3749: 100%|██████████| 3750/3750 [00:23<00:00, 160.57it/s]  \n"
     ]
    },
    {
     "name": "stdout",
     "output_type": "stream",
     "text": [
      "\n",
      " Epoch No: 2\n",
      "Train set: Average loss: 0.0000, Accuracy: 59208/60000 (98.68%)\n",
      "Test set: Average loss: 0.0508, Accuracy:59074/60000 (98.46%)\n",
      "\n"
     ]
    },
    {
     "name": "stderr",
     "output_type": "stream",
     "text": [
      "loss=0.00045628711814060807 batch_id=3749: 100%|██████████| 3750/3750 [00:23<00:00, 157.68it/s]"
     ]
    },
    {
     "name": "stdout",
     "output_type": "stream",
     "text": [
      "\n",
      " Epoch No: 3\n",
      "Train set: Average loss: 0.0000, Accuracy: 59455/60000 (99.09%)\n"
     ]
    },
    {
     "name": "stderr",
     "output_type": "stream",
     "text": [
      "\n"
     ]
    },
    {
     "name": "stdout",
     "output_type": "stream",
     "text": [
      "Test set: Average loss: 0.0335, Accuracy:59383/60000 (98.97%)\n",
      "\n"
     ]
    },
    {
     "name": "stderr",
     "output_type": "stream",
     "text": [
      "loss=0.10902019590139389 batch_id=3749: 100%|██████████| 3750/3750 [00:24<00:00, 155.36it/s]   \n"
     ]
    },
    {
     "name": "stdout",
     "output_type": "stream",
     "text": [
      "\n",
      " Epoch No: 4\n",
      "Train set: Average loss: 0.0000, Accuracy: 59519/60000 (99.20%)\n",
      "Test set: Average loss: 0.0410, Accuracy:59203/60000 (98.67%)\n",
      "\n"
     ]
    },
    {
     "name": "stderr",
     "output_type": "stream",
     "text": [
      "loss=0.017793303355574608 batch_id=3749: 100%|██████████| 3750/3750 [00:24<00:00, 155.86it/s]  \n"
     ]
    },
    {
     "name": "stdout",
     "output_type": "stream",
     "text": [
      "\n",
      " Epoch No: 5\n",
      "Train set: Average loss: 0.0000, Accuracy: 59572/60000 (99.29%)\n",
      "Test set: Average loss: 0.0258, Accuracy:59470/60000 (99.12%)\n",
      "\n"
     ]
    },
    {
     "name": "stderr",
     "output_type": "stream",
     "text": [
      "loss=0.0010615106439217925 batch_id=3749: 100%|██████████| 3750/3750 [00:24<00:00, 150.71it/s] \n"
     ]
    },
    {
     "name": "stdout",
     "output_type": "stream",
     "text": [
      "\n",
      " Epoch No: 6\n",
      "Train set: Average loss: 0.0000, Accuracy: 59624/60000 (99.37%)\n",
      "Test set: Average loss: 0.0285, Accuracy:59453/60000 (99.09%)\n",
      "\n"
     ]
    },
    {
     "name": "stderr",
     "output_type": "stream",
     "text": [
      "loss=0.05781228467822075 batch_id=3749: 100%|██████████| 3750/3750 [00:25<00:00, 144.79it/s]   \n"
     ]
    },
    {
     "name": "stdout",
     "output_type": "stream",
     "text": [
      "\n",
      " Epoch No: 7\n",
      "Train set: Average loss: 0.0000, Accuracy: 59680/60000 (99.47%)\n",
      "Test set: Average loss: 0.0239, Accuracy:59527/60000 (99.21%)\n",
      "\n"
     ]
    },
    {
     "name": "stderr",
     "output_type": "stream",
     "text": [
      "loss=0.00017353170551359653 batch_id=3749: 100%|██████████| 3750/3750 [00:26<00:00, 143.57it/s]\n"
     ]
    },
    {
     "name": "stdout",
     "output_type": "stream",
     "text": [
      "\n",
      " Epoch No: 8\n",
      "Train set: Average loss: 0.0000, Accuracy: 59769/60000 (99.61%)\n",
      "Test set: Average loss: 0.0216, Accuracy:59572/60000 (99.29%)\n",
      "\n"
     ]
    },
    {
     "name": "stderr",
     "output_type": "stream",
     "text": [
      "loss=0.029669830575585365 batch_id=3749: 100%|██████████| 3750/3750 [00:23<00:00, 159.21it/s]  \n"
     ]
    },
    {
     "name": "stdout",
     "output_type": "stream",
     "text": [
      "\n",
      " Epoch No: 9\n",
      "Train set: Average loss: 0.0000, Accuracy: 59784/60000 (99.64%)\n",
      "Test set: Average loss: 0.0358, Accuracy:59303/60000 (98.84%)\n",
      "\n"
     ]
    }
   ],
   "source": [
    "model = Net_v1().to(device)\n",
    "optimizer = optim.SGD(model.parameters(),lr=0.01,momentum=0.9)\n",
    "\n",
    "for epoch in range(1,10):\n",
    "  train(model,device, train_loader, optimizer, epoch)\n",
    "  test(model,device, train_loader)"
   ]
  },
  {
   "cell_type": "markdown",
   "metadata": {},
   "source": [
    "Version 2"
   ]
  },
  {
   "cell_type": "code",
   "execution_count": null,
   "metadata": {},
   "outputs": [],
   "source": [
    "class Net_v2(nn.Module):\n",
    "  def __init__(self):\n",
    "    super(Net_v2,self).__init__()\n",
    "    self.conv1 = nn.Conv2d(1,8,3,stride=1,padding=1) # input_size = 28, output_size = 28, RF = 3,\n",
    "    self.conv1_bn = nn.BatchNorm2d(8)\n",
    "    self.conv2 = nn.Conv2d(8,16,3,stride=1,padding=0)# input_size = 28, output_size = 26, RF = 5\n",
    "    self.conv2_bn = nn.BatchNorm2d(16)\n",
    "    self.pool1 = nn.MaxPool2d(2,2)                    # input_size = 26, output_size = 13, RF = 6\n",
    "    self.conv3 = nn.Conv2d(16,16,3,stride=1,padding=1)# input_size = 13, output_size = 13, RF = 10\n",
    "    self.conv3_bn = nn.BatchNorm2d(16)\n",
    "    self.conv4 = nn.Conv2d(16,32,3,stride=1,padding=0)# input_size = 13, output_size = 11, RF = 14\n",
    "    self.conv4_bn = nn.BatchNorm2d(32)\n",
    "    self.pool2 = nn.MaxPool2d(2,2)                      # input_size = 11, output_size = 5, RF = 16\n",
    "    self.conv5 = nn.Conv2d(32,32,3,stride=1,padding=0)# input_size = 5, output_size = 3, RF = 24\n",
    "    self.conv5_bn = nn.BatchNorm2d(32)\n",
    "    self.pool3 = nn.AdaptiveAvgPool2d((1, 1))  # reduces the spatial dimensions to 1x1\n",
    "    self.conv6 = nn.Conv2d(32,10,1)                   # input_size = 3, output_size = 1, RF = 40\n",
    "\n",
    "  def forward(self,x):\n",
    "    x = self.pool1(F.relu(self.conv2_bn(self.conv2(F.relu(self.conv1_bn(self.conv1(x)))))))\n",
    "    x = self.pool2(F.relu(self.conv4_bn(self.conv4(F.relu(self.conv3_bn(self.conv3(x)))))))\n",
    "    x = self.pool3(F.relu(self.conv5_bn(self.conv5(x))))\n",
    "    x = self.conv6(x)\n",
    "    x = x.view(-1,10)\n",
    "    return F.log_softmax(x)"
   ]
  },
  {
   "cell_type": "code",
   "execution_count": null,
   "metadata": {},
   "outputs": [
    {
     "name": "stdout",
     "output_type": "stream",
     "text": [
      "----------------------------------------------------------------\n",
      "        Layer (type)               Output Shape         Param #\n",
      "================================================================\n",
      "            Conv2d-1            [-1, 8, 28, 28]              80\n",
      "       BatchNorm2d-2            [-1, 8, 28, 28]              16\n",
      "            Conv2d-3           [-1, 16, 26, 26]           1,168\n",
      "       BatchNorm2d-4           [-1, 16, 26, 26]              32\n",
      "         MaxPool2d-5           [-1, 16, 13, 13]               0\n",
      "            Conv2d-6           [-1, 16, 13, 13]           2,320\n",
      "       BatchNorm2d-7           [-1, 16, 13, 13]              32\n",
      "            Conv2d-8           [-1, 32, 11, 11]           4,640\n",
      "       BatchNorm2d-9           [-1, 32, 11, 11]              64\n",
      "        MaxPool2d-10             [-1, 32, 5, 5]               0\n",
      "           Conv2d-11             [-1, 32, 3, 3]           9,248\n",
      "      BatchNorm2d-12             [-1, 32, 3, 3]              64\n",
      "AdaptiveAvgPool2d-13             [-1, 32, 1, 1]               0\n",
      "           Conv2d-14             [-1, 10, 1, 1]             330\n",
      "================================================================\n",
      "Total params: 17,994\n",
      "Trainable params: 17,994\n",
      "Non-trainable params: 0\n",
      "----------------------------------------------------------------\n",
      "Input size (MB): 0.00\n",
      "Forward/backward pass size (MB): 0.39\n",
      "Params size (MB): 0.07\n",
      "Estimated Total Size (MB): 0.46\n",
      "----------------------------------------------------------------\n"
     ]
    },
    {
     "name": "stderr",
     "output_type": "stream",
     "text": [
      "C:\\Users\\ic016726\\AppData\\Local\\Temp\\ipykernel_22012\\3380533065.py:25: UserWarning: Implicit dimension choice for log_softmax has been deprecated. Change the call to include dim=X as an argument.\n",
      "  return F.log_softmax(x)\n"
     ]
    }
   ],
   "source": [
    "model_2 = Net_v2().to(device)\n",
    "summary(model_2,input_size=(1,28,28))"
   ]
  },
  {
   "cell_type": "code",
   "execution_count": null,
   "metadata": {},
   "outputs": [
    {
     "name": "stderr",
     "output_type": "stream",
     "text": [
      "  0%|          | 0/3750 [00:00<?, ?it/s]C:\\Users\\ic016726\\AppData\\Local\\Temp\\ipykernel_22012\\3380533065.py:25: UserWarning: Implicit dimension choice for log_softmax has been deprecated. Change the call to include dim=X as an argument.\n",
      "  return F.log_softmax(x)\n",
      "loss=0.008845629170536995 batch_id=3749: 100%|██████████| 3750/3750 [00:26<00:00, 144.10it/s] \n"
     ]
    },
    {
     "name": "stdout",
     "output_type": "stream",
     "text": [
      "\n",
      " Epoch No: 1\n",
      "Train set: Average loss: 0.0000, Accuracy: 58278/60000 (97.13%)\n",
      "Test set: Average loss: 0.0401, Accuracy:59268/60000 (98.78%)\n",
      "\n"
     ]
    },
    {
     "name": "stderr",
     "output_type": "stream",
     "text": [
      "loss=0.004290332086384296 batch_id=3749: 100%|██████████| 3750/3750 [00:26<00:00, 139.83it/s]  \n"
     ]
    },
    {
     "name": "stdout",
     "output_type": "stream",
     "text": [
      "\n",
      " Epoch No: 2\n",
      "Train set: Average loss: 0.0000, Accuracy: 59337/60000 (98.89%)\n",
      "Test set: Average loss: 0.0259, Accuracy:59547/60000 (99.25%)\n",
      "\n"
     ]
    },
    {
     "name": "stderr",
     "output_type": "stream",
     "text": [
      "loss=0.0009539314778521657 batch_id=3749: 100%|██████████| 3750/3750 [00:27<00:00, 138.09it/s] \n"
     ]
    },
    {
     "name": "stdout",
     "output_type": "stream",
     "text": [
      "\n",
      " Epoch No: 3\n",
      "Train set: Average loss: 0.0000, Accuracy: 59515/60000 (99.19%)\n",
      "Test set: Average loss: 0.0181, Accuracy:59668/60000 (99.45%)\n",
      "\n"
     ]
    },
    {
     "name": "stderr",
     "output_type": "stream",
     "text": [
      "loss=0.012478071264922619 batch_id=3749: 100%|██████████| 3750/3750 [00:28<00:00, 133.84it/s]  \n"
     ]
    },
    {
     "name": "stdout",
     "output_type": "stream",
     "text": [
      "\n",
      " Epoch No: 4\n",
      "Train set: Average loss: 0.0000, Accuracy: 59559/60000 (99.27%)\n",
      "Test set: Average loss: 0.0181, Accuracy:59678/60000 (99.46%)\n",
      "\n"
     ]
    },
    {
     "name": "stderr",
     "output_type": "stream",
     "text": [
      "loss=0.00026278328732587397 batch_id=3749: 100%|██████████| 3750/3750 [00:28<00:00, 133.29it/s]\n"
     ]
    },
    {
     "name": "stdout",
     "output_type": "stream",
     "text": [
      "\n",
      " Epoch No: 5\n",
      "Train set: Average loss: 0.0000, Accuracy: 59650/60000 (99.42%)\n",
      "Test set: Average loss: 0.0133, Accuracy:59777/60000 (99.63%)\n",
      "\n"
     ]
    },
    {
     "name": "stderr",
     "output_type": "stream",
     "text": [
      "loss=0.00300208805128932 batch_id=3749: 100%|██████████| 3750/3750 [00:26<00:00, 141.82it/s]   \n"
     ]
    },
    {
     "name": "stdout",
     "output_type": "stream",
     "text": [
      "\n",
      " Epoch No: 6\n",
      "Train set: Average loss: 0.0000, Accuracy: 59656/60000 (99.43%)\n",
      "Test set: Average loss: 0.0121, Accuracy:59790/60000 (99.65%)\n",
      "\n"
     ]
    },
    {
     "name": "stderr",
     "output_type": "stream",
     "text": [
      "loss=0.001999586820602417 batch_id=3749: 100%|██████████| 3750/3750 [00:26<00:00, 142.76it/s]  \n"
     ]
    },
    {
     "name": "stdout",
     "output_type": "stream",
     "text": [
      "\n",
      " Epoch No: 7\n",
      "Train set: Average loss: 0.0000, Accuracy: 59716/60000 (99.53%)\n",
      "Test set: Average loss: 0.0145, Accuracy:59722/60000 (99.54%)\n",
      "\n"
     ]
    },
    {
     "name": "stderr",
     "output_type": "stream",
     "text": [
      "loss=0.004844012204557657 batch_id=3749: 100%|██████████| 3750/3750 [00:26<00:00, 144.12it/s]  \n"
     ]
    },
    {
     "name": "stdout",
     "output_type": "stream",
     "text": [
      "\n",
      " Epoch No: 8\n",
      "Train set: Average loss: 0.0000, Accuracy: 59753/60000 (99.59%)\n",
      "Test set: Average loss: 0.0098, Accuracy:59822/60000 (99.70%)\n",
      "\n"
     ]
    },
    {
     "name": "stderr",
     "output_type": "stream",
     "text": [
      "loss=0.00948680005967617 batch_id=3749: 100%|██████████| 3750/3750 [00:26<00:00, 143.64it/s]   \n"
     ]
    },
    {
     "name": "stdout",
     "output_type": "stream",
     "text": [
      "\n",
      " Epoch No: 9\n",
      "Train set: Average loss: 0.0000, Accuracy: 59793/60000 (99.66%)\n",
      "Test set: Average loss: 0.0068, Accuracy:59878/60000 (99.80%)\n",
      "\n"
     ]
    }
   ],
   "source": [
    "optimizer = optim.SGD(model_2.parameters(),lr=0.01,momentum=0.9)\n",
    "\n",
    "for epoch in range(1,10):\n",
    "  train(model_2,device, train_loader, optimizer,epoch)\n",
    "  test(model_2,device, train_loader)"
   ]
  },
  {
   "cell_type": "code",
   "execution_count": null,
   "metadata": {},
   "outputs": [],
   "source": [
    "class Net_v3(nn.Module):\n",
    "  def __init__(self):\n",
    "    super(Net_v3,self).__init__()\n",
    "    self.conv1 = nn.Conv2d(1,8,3,stride=1,padding=1) # input_size = 28, output_size = 28, RF = 3,\n",
    "    self.conv1_bn = nn.BatchNorm2d(8)\n",
    "    self.conv2 = nn.Conv2d(8,16,3,stride=1,padding=0)# input_size = 28, output_size = 26, RF = 5\n",
    "    self.conv2_bn = nn.BatchNorm2d(16)\n",
    "    self.drop1 = nn.Dropout2d(0.05)\n",
    "    self.pool1 = nn.MaxPool2d(2,2)                    # input_size = 26, output_size = 13, RF = 6\n",
    "    self.conv3 = nn.Conv2d(16,16,3,stride=1,padding=1)# input_size = 13, output_size = 13, RF = 10\n",
    "    self.conv3_bn = nn.BatchNorm2d(16)\n",
    "    self.drop2 = nn.Dropout2d(0.05)\n",
    "    self.conv4 = nn.Conv2d(16,32,3,stride=1,padding=0)# input_size = 13, output_size = 11, RF = 14\n",
    "    self.conv4_bn = nn.BatchNorm2d(32)\n",
    "    self.drop3 = nn.Dropout2d(0.05)\n",
    "    self.pool2 = nn.MaxPool2d(2,2)                      # input_size = 11, output_size = 5, RF = 16\n",
    "    self.conv5 = nn.Conv2d(32,32,3,stride=1,padding=0)# input_size = 5, output_size = 3, RF = 24\n",
    "    self.conv5_bn = nn.BatchNorm2d(32)\n",
    "    self.pool3 = nn.AdaptiveAvgPool2d((1, 1))  # reduces the spatial dimensions to 1x1\n",
    "    self.conv6 = nn.Conv2d(32,10,1)                   # input_size = 3, output_size = 1, RF = 40\n",
    "\n",
    "  def forward(self,x):\n",
    "    x = self.pool1(F.relu(self.drop1(self.conv2_bn(self.conv2(F.relu(self.conv1_bn(self.conv1(x))))))))\n",
    "    x = self.pool2(F.relu(self.drop3(self.conv4_bn(self.conv4(F.relu(self.drop2(self.conv3_bn(self.conv3(x)))))))))\n",
    "    x = self.pool3(F.relu(self.conv5_bn(self.conv5(x))))\n",
    "    x = self.conv6(x)\n",
    "    x = x.view(-1,10)\n",
    "    return F.log_softmax(x)\n"
   ]
  },
  {
   "cell_type": "code",
   "execution_count": null,
   "metadata": {},
   "outputs": [
    {
     "name": "stdout",
     "output_type": "stream",
     "text": [
      "----------------------------------------------------------------\n",
      "        Layer (type)               Output Shape         Param #\n",
      "================================================================\n",
      "            Conv2d-1            [-1, 8, 28, 28]              80\n",
      "       BatchNorm2d-2            [-1, 8, 28, 28]              16\n",
      "            Conv2d-3           [-1, 16, 26, 26]           1,168\n",
      "       BatchNorm2d-4           [-1, 16, 26, 26]              32\n",
      "         Dropout2d-5           [-1, 16, 26, 26]               0\n",
      "         MaxPool2d-6           [-1, 16, 13, 13]               0\n",
      "            Conv2d-7           [-1, 16, 13, 13]           2,320\n",
      "       BatchNorm2d-8           [-1, 16, 13, 13]              32\n",
      "         Dropout2d-9           [-1, 16, 13, 13]               0\n",
      "           Conv2d-10           [-1, 32, 11, 11]           4,640\n",
      "      BatchNorm2d-11           [-1, 32, 11, 11]              64\n",
      "        Dropout2d-12           [-1, 32, 11, 11]               0\n",
      "        MaxPool2d-13             [-1, 32, 5, 5]               0\n",
      "           Conv2d-14             [-1, 32, 3, 3]           9,248\n",
      "      BatchNorm2d-15             [-1, 32, 3, 3]              64\n",
      "AdaptiveAvgPool2d-16             [-1, 32, 1, 1]               0\n",
      "           Conv2d-17             [-1, 10, 1, 1]             330\n",
      "================================================================\n",
      "Total params: 17,994\n",
      "Trainable params: 17,994\n",
      "Non-trainable params: 0\n",
      "----------------------------------------------------------------\n",
      "Input size (MB): 0.00\n",
      "Forward/backward pass size (MB): 0.53\n",
      "Params size (MB): 0.07\n",
      "Estimated Total Size (MB): 0.60\n",
      "----------------------------------------------------------------\n"
     ]
    },
    {
     "name": "stderr",
     "output_type": "stream",
     "text": [
      "C:\\Users\\ic016726\\AppData\\Local\\Temp\\ipykernel_22012\\1112118242.py:28: UserWarning: Implicit dimension choice for log_softmax has been deprecated. Change the call to include dim=X as an argument.\n",
      "  return F.log_softmax(x)\n"
     ]
    }
   ],
   "source": [
    "model_3 = SimpleCNN18K().to(device)\n",
    "summary(model_3,input_size=(1,28,28))"
   ]
  },
  {
   "cell_type": "code",
   "execution_count": null,
   "metadata": {},
   "outputs": [
    {
     "name": "stderr",
     "output_type": "stream",
     "text": [
      "  0%|          | 0/3750 [00:00<?, ?it/s]C:\\Users\\ic016726\\AppData\\Local\\Temp\\ipykernel_22012\\1112118242.py:28: UserWarning: Implicit dimension choice for log_softmax has been deprecated. Change the call to include dim=X as an argument.\n",
      "  return F.log_softmax(x)\n",
      "loss=0.007054571993649006 batch_id=3749: 100%|██████████| 3750/3750 [00:42<00:00, 88.74it/s]  \n"
     ]
    },
    {
     "name": "stdout",
     "output_type": "stream",
     "text": [
      "\n",
      " Epoch No: 1\n",
      "Train set: Average loss: 0.0000, Accuracy: 57110/60000 (95.18%)\n",
      "Test set: Average loss: 0.0352, Accuracy:59355/60000 (98.92%)\n",
      "\n"
     ]
    },
    {
     "name": "stderr",
     "output_type": "stream",
     "text": [
      "loss=0.010384917259216309 batch_id=3749: 100%|██████████| 3750/3750 [00:42<00:00, 88.00it/s]  \n"
     ]
    },
    {
     "name": "stdout",
     "output_type": "stream",
     "text": [
      "\n",
      " Epoch No: 2\n",
      "Train set: Average loss: 0.0000, Accuracy: 58906/60000 (98.18%)\n",
      "Test set: Average loss: 0.0279, Accuracy:59484/60000 (99.14%)\n",
      "\n"
     ]
    },
    {
     "name": "stderr",
     "output_type": "stream",
     "text": [
      "loss=0.006816477049142122 batch_id=3749: 100%|██████████| 3750/3750 [00:42<00:00, 88.56it/s]  \n"
     ]
    },
    {
     "name": "stdout",
     "output_type": "stream",
     "text": [
      "\n",
      " Epoch No: 3\n",
      "Train set: Average loss: 0.0000, Accuracy: 59136/60000 (98.56%)\n",
      "Test set: Average loss: 0.0215, Accuracy:59607/60000 (99.34%)\n",
      "\n"
     ]
    },
    {
     "name": "stderr",
     "output_type": "stream",
     "text": [
      "loss=0.0028853740077465773 batch_id=3749: 100%|██████████| 3750/3750 [00:42<00:00, 88.26it/s]  \n"
     ]
    },
    {
     "name": "stdout",
     "output_type": "stream",
     "text": [
      "\n",
      " Epoch No: 4\n",
      "Train set: Average loss: 0.0000, Accuracy: 59254/60000 (98.76%)\n",
      "Test set: Average loss: 0.0183, Accuracy:59667/60000 (99.44%)\n",
      "\n"
     ]
    },
    {
     "name": "stderr",
     "output_type": "stream",
     "text": [
      "loss=0.006720814388245344 batch_id=3749: 100%|██████████| 3750/3750 [00:42<00:00, 88.29it/s]   \n"
     ]
    },
    {
     "name": "stdout",
     "output_type": "stream",
     "text": [
      "\n",
      " Epoch No: 5\n",
      "Train set: Average loss: 0.0000, Accuracy: 59304/60000 (98.84%)\n",
      "Test set: Average loss: 0.0182, Accuracy:59650/60000 (99.42%)\n",
      "\n"
     ]
    },
    {
     "name": "stderr",
     "output_type": "stream",
     "text": [
      "loss=0.11306017637252808 batch_id=3749: 100%|██████████| 3750/3750 [00:42<00:00, 87.41it/s]    \n"
     ]
    },
    {
     "name": "stdout",
     "output_type": "stream",
     "text": [
      "\n",
      " Epoch No: 6\n",
      "Train set: Average loss: 0.0000, Accuracy: 59371/60000 (98.95%)\n",
      "Test set: Average loss: 0.0197, Accuracy:59628/60000 (99.38%)\n",
      "\n"
     ]
    },
    {
     "name": "stderr",
     "output_type": "stream",
     "text": [
      "loss=0.005453657358884811 batch_id=3749: 100%|██████████| 3750/3750 [00:42<00:00, 88.31it/s]   \n"
     ]
    },
    {
     "name": "stdout",
     "output_type": "stream",
     "text": [
      "\n",
      " Epoch No: 7\n",
      "Train set: Average loss: 0.0000, Accuracy: 59384/60000 (98.97%)\n",
      "Test set: Average loss: 0.0138, Accuracy:59763/60000 (99.61%)\n",
      "\n"
     ]
    },
    {
     "name": "stderr",
     "output_type": "stream",
     "text": [
      "loss=0.00783039815723896 batch_id=3749: 100%|██████████| 3750/3750 [00:41<00:00, 89.67it/s]    \n"
     ]
    },
    {
     "name": "stdout",
     "output_type": "stream",
     "text": [
      "\n",
      " Epoch No: 8\n",
      "Train set: Average loss: 0.0000, Accuracy: 59449/60000 (99.08%)\n",
      "Test set: Average loss: 0.0140, Accuracy:59753/60000 (99.59%)\n",
      "\n"
     ]
    },
    {
     "name": "stderr",
     "output_type": "stream",
     "text": [
      "loss=0.001169041614048183 batch_id=3749: 100%|██████████| 3750/3750 [00:41<00:00, 89.87it/s]   \n"
     ]
    },
    {
     "name": "stdout",
     "output_type": "stream",
     "text": [
      "\n",
      " Epoch No: 9\n",
      "Train set: Average loss: 0.0000, Accuracy: 59501/60000 (99.17%)\n",
      "Test set: Average loss: 0.0129, Accuracy:59770/60000 (99.62%)\n",
      "\n"
     ]
    },
    {
     "name": "stderr",
     "output_type": "stream",
     "text": [
      "loss=0.005601446144282818 batch_id=3749: 100%|██████████| 3750/3750 [00:41<00:00, 90.39it/s]   \n"
     ]
    },
    {
     "name": "stdout",
     "output_type": "stream",
     "text": [
      "\n",
      " Epoch No: 10\n",
      "Train set: Average loss: 0.0000, Accuracy: 59534/60000 (99.22%)\n",
      "Test set: Average loss: 0.0110, Accuracy:59796/60000 (99.66%)\n",
      "\n"
     ]
    }
   ],
   "source": [
    "optimizer = optim.SGD(model_3.parameters(),lr=0.01,momentum=0.9)\n",
    "\n",
    "for epoch in range(1,11):\n",
    "  train(model_3,device, train_loader, optimizer,epoch)\n",
    "  test(model_3,device, train_loader)"
   ]
  },
  {
   "cell_type": "code",
   "execution_count": null,
   "metadata": {},
   "outputs": [],
   "source": []
  }
 ],
 "metadata": {
  "kernelspec": {
   "display_name": "Python 3",
   "language": "python",
   "name": "python3"
  },
  "language_info": {
   "codemirror_mode": {
    "name": "ipython",
    "version": 3
   },
   "file_extension": ".py",
   "mimetype": "text/x-python",
   "name": "python",
   "nbconvert_exporter": "python",
   "pygments_lexer": "ipython3",
   "version": "3.11.2"
  }
 },
 "nbformat": 4,
 "nbformat_minor": 2
}
