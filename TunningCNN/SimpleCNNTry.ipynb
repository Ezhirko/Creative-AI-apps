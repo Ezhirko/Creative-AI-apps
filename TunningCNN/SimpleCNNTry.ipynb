{
 "cells": [
  {
   "cell_type": "code",
   "execution_count": null,
   "metadata": {},
   "outputs": [],
   "source": [
    "import torch\n",
    "import torch.nn as nn\n",
    "import torch.nn.functional as F\n",
    "import torch.optim as optim\n",
    "from torchvision import datasets, transforms\n",
    "from torchsummary import summary\n",
    "from SimpleCNN18K import SimpleCNN18K   "
   ]
  },
  {
   "cell_type": "markdown",
   "metadata": {},
   "source": [
    "Assign the Device"
   ]
  },
  {
   "cell_type": "code",
   "execution_count": 2,
   "metadata": {},
   "outputs": [
    {
     "name": "stdout",
     "output_type": "stream",
     "text": [
      "cuda\n"
     ]
    }
   ],
   "source": [
    "use_cuda = torch.cuda.is_available()\n",
    "device = torch.device(\"cuda\" if use_cuda else 'cpu')\n",
    "print(device)"
   ]
  },
  {
   "cell_type": "markdown",
   "metadata": {},
   "source": [
    "Download the data"
   ]
  },
  {
   "cell_type": "code",
   "execution_count": 3,
   "metadata": {},
   "outputs": [],
   "source": [
    "torch.manual_seed(1)\n",
    "batch_size = 16\n",
    "\n",
    "kwargs = {'num_workers':1,'pin_memory':True} if use_cuda else {}\n",
    "train_loader = torch.utils.data.DataLoader(\n",
    "    datasets.MNIST('../data',train=True,download=True,\n",
    "                   transform=transforms.Compose([transforms.ToTensor(),\n",
    "                                                 transforms.Normalize((0.1307,),(0.3081,))]\n",
    "                   )),batch_size=batch_size,shuffle=True, **kwargs)\n",
    "test_loader = torch.utils.data.DataLoader(\n",
    "    datasets.MNIST('../data',train=False,\n",
    "                   transform=transforms.Compose([transforms.ToTensor(),\n",
    "                                                 transforms.Normalize((0.1307,),(0.3081,))\n",
    "                                                 ])),batch_size=batch_size,shuffle=True,**kwargs)"
   ]
  },
  {
   "cell_type": "markdown",
   "metadata": {},
   "source": [
    "Train and Test Functions"
   ]
  },
  {
   "cell_type": "code",
   "execution_count": 4,
   "metadata": {},
   "outputs": [],
   "source": [
    "from tqdm import tqdm\n",
    "\n",
    "def train(model, device, train_loader, optimizer, epoch):\n",
    "  model.train()\n",
    "  train_loss = 0\n",
    "  correct = 0\n",
    "  pbar = tqdm(train_loader)\n",
    "  for batch_idx, (data,target) in enumerate(pbar):\n",
    "    data,target = data.to(device),target.to(device)\n",
    "    optimizer.zero_grad()\n",
    "    output = model(data)\n",
    "    loss = F.nll_loss(output,target)\n",
    "    loss.backward()\n",
    "    optimizer.step()\n",
    "    pbar.set_description(desc=f'loss={loss.item()} batch_id={batch_idx}')\n",
    "    with torch.no_grad():\n",
    "        output = model(data)\n",
    "        pred = output.argmax(dim=1, keepdim=True)  # get the index of the max log-probability\n",
    "        correct += pred.eq(target.view_as(pred)).sum().item()\n",
    "  train_loss /= len(train_loader.dataset)\n",
    "  print('\\n Epoch No: {}'.format(epoch))\n",
    "  print('Train set: Average loss: {:.4f}, Accuracy: {}/{} ({:.2f}%)'.format(\n",
    "    train_loss, correct, len(train_loader.dataset),\n",
    "    100. * float(correct) / len(train_loader.dataset)))\n",
    "\n",
    "def test(model, device, test_loader):\n",
    "  model.eval()\n",
    "  test_loss = 0\n",
    "  correct = 0\n",
    "  with torch.no_grad():\n",
    "    for data,target in test_loader:\n",
    "      data,target = data.to(device),target.to(device)\n",
    "      output = model(data)\n",
    "      test_loss += F.nll_loss(output,target,reduction='sum').item()\n",
    "      pred = output.argmax(dim=1,keepdim=True)\n",
    "      correct += pred.eq(target.view_as(pred)).sum().item()\n",
    "\n",
    "  test_loss /= len(test_loader.dataset)\n",
    "  print('Test set: Average loss: {:.4f}, Accuracy:{}/{} ({:.2f}%)\\n'.format(\n",
    "      test_loss,correct,len(test_loader.dataset),\n",
    "      100. * correct / len(test_loader.dataset)))"
   ]
  },
  {
   "cell_type": "markdown",
   "metadata": {},
   "source": [
    "Define the CNN model with different archicture and check for expected results"
   ]
  },
  {
   "cell_type": "markdown",
   "metadata": {},
   "source": [
    "Version 1"
   ]
  },
  {
   "cell_type": "code",
   "execution_count": 5,
   "metadata": {},
   "outputs": [],
   "source": [
    "class Net_v1(nn.Module):\n",
    "  def __init__(self):\n",
    "    super(Net_v1,self).__init__()\n",
    "    self.conv1 = nn.Conv2d(1,8,3,stride=1,padding=1) # input_size = 28, output_size = 28, RF = 3, No_param =\n",
    "    self.conv2 = nn.Conv2d(8,8,3,stride=1,padding=1)# input_size = 28, output_size = 28, RF = 5\n",
    "    self.pool1 = nn.MaxPool2d(2,2)                    # input_size = 28, output_size = 14, RF = 6\n",
    "    self.conv3 = nn.Conv2d(8,16,3,stride=1,padding=1)# input_size = 14, output_size = 14, RF = 10\n",
    "    self.conv4 = nn.Conv2d(16,16,3,stride=1,padding=1)# input_size = 14, output_size = 14, RF = 14\n",
    "    self.pool2 = nn.MaxPool2d(2,2)                      # input_size = 14, output_size = 7, RF = 16\n",
    "    self.conv5 = nn.Conv2d(16,32,3,stride=1,padding=0)# input_size = 7, output_size = 5, RF = 24\n",
    "    self.conv6 = nn.Conv2d(32,32,3,stride=1,padding=0)# input_size = 5, output_size = 3, RF = 32\n",
    "    self.conv7 = nn.Conv2d(32,10,3)                    # input_size = 3, output_size = 1, RF = 40\n",
    "\n",
    "  def forward(self,x):\n",
    "    x = self.pool1(F.relu(self.conv2(F.relu(self.conv1(x)))))\n",
    "    x = self.pool2(F.relu(self.conv4(F.relu(self.conv3(x)))))\n",
    "    x = F.relu(self.conv6(F.relu(self.conv5(x))))\n",
    "    x = self.conv7(x)\n",
    "    x = x.view(-1,10)\n",
    "    return F.log_softmax(x)"
   ]
  },
  {
   "cell_type": "code",
   "execution_count": 6,
   "metadata": {},
   "outputs": [
    {
     "name": "stdout",
     "output_type": "stream",
     "text": [
      "----------------------------------------------------------------\n",
      "        Layer (type)               Output Shape         Param #\n",
      "================================================================\n",
      "            Conv2d-1            [-1, 8, 28, 28]              80\n",
      "            Conv2d-2            [-1, 8, 28, 28]             584\n",
      "         MaxPool2d-3            [-1, 8, 14, 14]               0\n",
      "            Conv2d-4           [-1, 16, 14, 14]           1,168\n",
      "            Conv2d-5           [-1, 16, 14, 14]           2,320\n",
      "         MaxPool2d-6             [-1, 16, 7, 7]               0\n",
      "            Conv2d-7             [-1, 32, 5, 5]           4,640\n",
      "            Conv2d-8             [-1, 32, 3, 3]           9,248\n",
      "            Conv2d-9             [-1, 10, 1, 1]           2,890\n",
      "================================================================\n",
      "Total params: 20,930\n",
      "Trainable params: 20,930\n",
      "Non-trainable params: 0\n",
      "----------------------------------------------------------------\n",
      "Input size (MB): 0.00\n",
      "Forward/backward pass size (MB): 0.17\n",
      "Params size (MB): 0.08\n",
      "Estimated Total Size (MB): 0.25\n",
      "----------------------------------------------------------------\n"
     ]
    },
    {
     "name": "stderr",
     "output_type": "stream",
     "text": [
      "C:\\Users\\ic016726\\AppData\\Local\\Temp\\ipykernel_28120\\948642335.py:20: UserWarning: Implicit dimension choice for log_softmax has been deprecated. Change the call to include dim=X as an argument.\n",
      "  return F.log_softmax(x)\n"
     ]
    }
   ],
   "source": [
    "model = Net_v1().to(device)\n",
    "summary(model,input_size=(1,28,28))"
   ]
  },
  {
   "cell_type": "code",
   "execution_count": 7,
   "metadata": {},
   "outputs": [
    {
     "name": "stderr",
     "output_type": "stream",
     "text": [
      "  0%|          | 0/3750 [00:00<?, ?it/s]C:\\Users\\ic016726\\AppData\\Local\\Temp\\ipykernel_28120\\948642335.py:20: UserWarning: Implicit dimension choice for log_softmax has been deprecated. Change the call to include dim=X as an argument.\n",
      "  return F.log_softmax(x)\n",
      "loss=0.002319438150152564 batch_id=3749: 100%|██████████| 3750/3750 [00:28<00:00, 133.03it/s]  \n"
     ]
    },
    {
     "name": "stdout",
     "output_type": "stream",
     "text": [
      "\n",
      " Epoch No: 1\n",
      "Train set: Average loss: 0.0000, Accuracy: 56243/60000 (93.74%)\n",
      "Test set: Average loss: 0.0927, Accuracy:58347/60000 (97.25%)\n",
      "\n"
     ]
    },
    {
     "name": "stderr",
     "output_type": "stream",
     "text": [
      "loss=0.07344766706228256 batch_id=3749: 100%|██████████| 3750/3750 [00:27<00:00, 134.47it/s]   \n"
     ]
    },
    {
     "name": "stdout",
     "output_type": "stream",
     "text": [
      "\n",
      " Epoch No: 2\n",
      "Train set: Average loss: 0.0000, Accuracy: 59265/60000 (98.78%)\n",
      "Test set: Average loss: 0.0493, Accuracy:59096/60000 (98.49%)\n",
      "\n"
     ]
    },
    {
     "name": "stderr",
     "output_type": "stream",
     "text": [
      "loss=4.8721933126216754e-05 batch_id=3749: 100%|██████████| 3750/3750 [00:27<00:00, 136.28it/s]\n"
     ]
    },
    {
     "name": "stdout",
     "output_type": "stream",
     "text": [
      "\n",
      " Epoch No: 3\n",
      "Train set: Average loss: 0.0000, Accuracy: 59429/60000 (99.05%)\n",
      "Test set: Average loss: 0.0360, Accuracy:59315/60000 (98.86%)\n",
      "\n"
     ]
    },
    {
     "name": "stderr",
     "output_type": "stream",
     "text": [
      "loss=0.0026866800617426634 batch_id=3749: 100%|██████████| 3750/3750 [00:25<00:00, 146.88it/s] \n"
     ]
    },
    {
     "name": "stdout",
     "output_type": "stream",
     "text": [
      "\n",
      " Epoch No: 4\n",
      "Train set: Average loss: 0.0000, Accuracy: 59551/60000 (99.25%)\n",
      "Test set: Average loss: 0.0463, Accuracy:59133/60000 (98.56%)\n",
      "\n"
     ]
    },
    {
     "name": "stderr",
     "output_type": "stream",
     "text": [
      "loss=0.01036755833774805 batch_id=3749: 100%|██████████| 3750/3750 [00:27<00:00, 135.84it/s]   \n"
     ]
    },
    {
     "name": "stdout",
     "output_type": "stream",
     "text": [
      "\n",
      " Epoch No: 5\n",
      "Train set: Average loss: 0.0000, Accuracy: 59666/60000 (99.44%)\n",
      "Test set: Average loss: 0.0265, Accuracy:59511/60000 (99.19%)\n",
      "\n"
     ]
    },
    {
     "name": "stderr",
     "output_type": "stream",
     "text": [
      "loss=0.0010574597399681807 batch_id=3749: 100%|██████████| 3750/3750 [00:27<00:00, 137.41it/s] \n"
     ]
    },
    {
     "name": "stdout",
     "output_type": "stream",
     "text": [
      "\n",
      " Epoch No: 6\n",
      "Train set: Average loss: 0.0000, Accuracy: 59707/60000 (99.51%)\n",
      "Test set: Average loss: 0.0264, Accuracy:59501/60000 (99.17%)\n",
      "\n"
     ]
    },
    {
     "name": "stderr",
     "output_type": "stream",
     "text": [
      "loss=0.07295665144920349 batch_id=3749: 100%|██████████| 3750/3750 [00:24<00:00, 155.88it/s]   \n"
     ]
    },
    {
     "name": "stdout",
     "output_type": "stream",
     "text": [
      "\n",
      " Epoch No: 7\n",
      "Train set: Average loss: 0.0000, Accuracy: 59732/60000 (99.55%)\n",
      "Test set: Average loss: 0.0216, Accuracy:59585/60000 (99.31%)\n",
      "\n"
     ]
    },
    {
     "name": "stderr",
     "output_type": "stream",
     "text": [
      "loss=0.04937540739774704 batch_id=3749: 100%|██████████| 3750/3750 [00:26<00:00, 139.68it/s]   \n"
     ]
    },
    {
     "name": "stdout",
     "output_type": "stream",
     "text": [
      "\n",
      " Epoch No: 8\n",
      "Train set: Average loss: 0.0000, Accuracy: 59764/60000 (99.61%)\n",
      "Test set: Average loss: 0.0205, Accuracy:59603/60000 (99.34%)\n",
      "\n"
     ]
    },
    {
     "name": "stderr",
     "output_type": "stream",
     "text": [
      "loss=0.009236565791070461 batch_id=3749: 100%|██████████| 3750/3750 [00:23<00:00, 156.56it/s]  \n"
     ]
    },
    {
     "name": "stdout",
     "output_type": "stream",
     "text": [
      "\n",
      " Epoch No: 9\n",
      "Train set: Average loss: 0.0000, Accuracy: 59780/60000 (99.63%)\n",
      "Test set: Average loss: 0.0335, Accuracy:59340/60000 (98.90%)\n",
      "\n"
     ]
    }
   ],
   "source": [
    "model = Net_v1().to(device)\n",
    "optimizer = optim.SGD(model.parameters(),lr=0.01,momentum=0.9)\n",
    "\n",
    "for epoch in range(1,10):\n",
    "  train(model,device, train_loader, optimizer, epoch)\n",
    "  test(model,device, train_loader)"
   ]
  },
  {
   "cell_type": "markdown",
   "metadata": {},
   "source": [
    "Version 2"
   ]
  },
  {
   "cell_type": "code",
   "execution_count": 8,
   "metadata": {},
   "outputs": [],
   "source": [
    "class Net_v2(nn.Module):\n",
    "  def __init__(self):\n",
    "    super(Net_v2,self).__init__()\n",
    "    self.conv1 = nn.Conv2d(1,8,3,stride=1,padding=1) # input_size = 28, output_size = 28, RF = 3,\n",
    "    self.conv1_bn = nn.BatchNorm2d(8)\n",
    "    self.conv2 = nn.Conv2d(8,16,3,stride=1,padding=0)# input_size = 28, output_size = 26, RF = 5\n",
    "    self.conv2_bn = nn.BatchNorm2d(16)\n",
    "    self.pool1 = nn.MaxPool2d(2,2)                    # input_size = 26, output_size = 13, RF = 6\n",
    "    self.conv3 = nn.Conv2d(16,16,3,stride=1,padding=1)# input_size = 13, output_size = 13, RF = 10\n",
    "    self.conv3_bn = nn.BatchNorm2d(16)\n",
    "    self.conv4 = nn.Conv2d(16,32,3,stride=1,padding=0)# input_size = 13, output_size = 11, RF = 14\n",
    "    self.conv4_bn = nn.BatchNorm2d(32)\n",
    "    self.pool2 = nn.MaxPool2d(2,2)                      # input_size = 11, output_size = 5, RF = 16\n",
    "    self.conv5 = nn.Conv2d(32,32,3,stride=1,padding=0)# input_size = 5, output_size = 3, RF = 24\n",
    "    self.conv5_bn = nn.BatchNorm2d(32)\n",
    "    self.pool3 = nn.AdaptiveAvgPool2d((1, 1))  # reduces the spatial dimensions to 1x1\n",
    "    self.conv6 = nn.Conv2d(32,10,1)                   # input_size = 3, output_size = 1, RF = 40\n",
    "\n",
    "  def forward(self,x):\n",
    "    x = self.pool1(F.relu(self.conv2_bn(self.conv2(F.relu(self.conv1_bn(self.conv1(x)))))))\n",
    "    x = self.pool2(F.relu(self.conv4_bn(self.conv4(F.relu(self.conv3_bn(self.conv3(x)))))))\n",
    "    x = self.pool3(F.relu(self.conv5_bn(self.conv5(x))))\n",
    "    x = self.conv6(x)\n",
    "    x = x.view(-1,10)\n",
    "    return F.log_softmax(x)"
   ]
  },
  {
   "cell_type": "code",
   "execution_count": 9,
   "metadata": {},
   "outputs": [
    {
     "name": "stdout",
     "output_type": "stream",
     "text": [
      "----------------------------------------------------------------\n",
      "        Layer (type)               Output Shape         Param #\n",
      "================================================================\n",
      "            Conv2d-1            [-1, 8, 28, 28]              80\n",
      "       BatchNorm2d-2            [-1, 8, 28, 28]              16\n",
      "            Conv2d-3           [-1, 16, 26, 26]           1,168\n",
      "       BatchNorm2d-4           [-1, 16, 26, 26]              32\n",
      "         MaxPool2d-5           [-1, 16, 13, 13]               0\n",
      "            Conv2d-6           [-1, 16, 13, 13]           2,320\n",
      "       BatchNorm2d-7           [-1, 16, 13, 13]              32\n",
      "            Conv2d-8           [-1, 32, 11, 11]           4,640\n",
      "       BatchNorm2d-9           [-1, 32, 11, 11]              64\n",
      "        MaxPool2d-10             [-1, 32, 5, 5]               0\n",
      "           Conv2d-11             [-1, 32, 3, 3]           9,248\n",
      "      BatchNorm2d-12             [-1, 32, 3, 3]              64\n",
      "AdaptiveAvgPool2d-13             [-1, 32, 1, 1]               0\n",
      "           Conv2d-14             [-1, 10, 1, 1]             330\n",
      "================================================================\n",
      "Total params: 17,994\n",
      "Trainable params: 17,994\n",
      "Non-trainable params: 0\n",
      "----------------------------------------------------------------\n",
      "Input size (MB): 0.00\n",
      "Forward/backward pass size (MB): 0.39\n",
      "Params size (MB): 0.07\n",
      "Estimated Total Size (MB): 0.46\n",
      "----------------------------------------------------------------\n"
     ]
    },
    {
     "name": "stderr",
     "output_type": "stream",
     "text": [
      "C:\\Users\\ic016726\\AppData\\Local\\Temp\\ipykernel_28120\\3380533065.py:25: UserWarning: Implicit dimension choice for log_softmax has been deprecated. Change the call to include dim=X as an argument.\n",
      "  return F.log_softmax(x)\n"
     ]
    }
   ],
   "source": [
    "model_2 = Net_v2().to(device)\n",
    "summary(model_2,input_size=(1,28,28))"
   ]
  },
  {
   "cell_type": "code",
   "execution_count": 10,
   "metadata": {},
   "outputs": [
    {
     "name": "stderr",
     "output_type": "stream",
     "text": [
      "  0%|          | 0/3750 [00:00<?, ?it/s]C:\\Users\\ic016726\\AppData\\Local\\Temp\\ipykernel_28120\\3380533065.py:25: UserWarning: Implicit dimension choice for log_softmax has been deprecated. Change the call to include dim=X as an argument.\n",
      "  return F.log_softmax(x)\n",
      "loss=0.16939619183540344 batch_id=3749: 100%|██████████| 3750/3750 [00:26<00:00, 143.60it/s]  \n"
     ]
    },
    {
     "name": "stdout",
     "output_type": "stream",
     "text": [
      "\n",
      " Epoch No: 1\n",
      "Train set: Average loss: 0.0000, Accuracy: 58327/60000 (97.21%)\n",
      "Test set: Average loss: 0.0400, Accuracy:59277/60000 (98.80%)\n",
      "\n"
     ]
    },
    {
     "name": "stderr",
     "output_type": "stream",
     "text": [
      "loss=0.004079877864569426 batch_id=3749: 100%|██████████| 3750/3750 [00:26<00:00, 139.81it/s]  \n"
     ]
    },
    {
     "name": "stdout",
     "output_type": "stream",
     "text": [
      "\n",
      " Epoch No: 2\n",
      "Train set: Average loss: 0.0000, Accuracy: 59300/60000 (98.83%)\n",
      "Test set: Average loss: 0.0251, Accuracy:59520/60000 (99.20%)\n",
      "\n"
     ]
    },
    {
     "name": "stderr",
     "output_type": "stream",
     "text": [
      "loss=0.052632950246334076 batch_id=3749: 100%|██████████| 3750/3750 [00:26<00:00, 143.19it/s]  \n"
     ]
    },
    {
     "name": "stdout",
     "output_type": "stream",
     "text": [
      "\n",
      " Epoch No: 3\n",
      "Train set: Average loss: 0.0000, Accuracy: 59471/60000 (99.12%)\n",
      "Test set: Average loss: 0.0184, Accuracy:59688/60000 (99.48%)\n",
      "\n"
     ]
    },
    {
     "name": "stderr",
     "output_type": "stream",
     "text": [
      "loss=0.0026814581360667944 batch_id=3749: 100%|██████████| 3750/3750 [00:26<00:00, 141.15it/s] \n"
     ]
    },
    {
     "name": "stdout",
     "output_type": "stream",
     "text": [
      "\n",
      " Epoch No: 4\n",
      "Train set: Average loss: 0.0000, Accuracy: 59575/60000 (99.29%)\n",
      "Test set: Average loss: 0.0161, Accuracy:59686/60000 (99.48%)\n",
      "\n"
     ]
    },
    {
     "name": "stderr",
     "output_type": "stream",
     "text": [
      "loss=0.08692646771669388 batch_id=3749: 100%|██████████| 3750/3750 [00:26<00:00, 139.14it/s]   \n"
     ]
    },
    {
     "name": "stdout",
     "output_type": "stream",
     "text": [
      "\n",
      " Epoch No: 5\n",
      "Train set: Average loss: 0.0000, Accuracy: 59584/60000 (99.31%)\n",
      "Test set: Average loss: 0.0143, Accuracy:59741/60000 (99.57%)\n",
      "\n"
     ]
    },
    {
     "name": "stderr",
     "output_type": "stream",
     "text": [
      "loss=0.0009573657298460603 batch_id=3749: 100%|██████████| 3750/3750 [00:26<00:00, 139.96it/s] \n"
     ]
    },
    {
     "name": "stdout",
     "output_type": "stream",
     "text": [
      "\n",
      " Epoch No: 6\n",
      "Train set: Average loss: 0.0000, Accuracy: 59653/60000 (99.42%)\n",
      "Test set: Average loss: 0.0121, Accuracy:59792/60000 (99.65%)\n",
      "\n"
     ]
    },
    {
     "name": "stderr",
     "output_type": "stream",
     "text": [
      "loss=0.0007631525513716042 batch_id=3749: 100%|██████████| 3750/3750 [00:26<00:00, 139.28it/s] \n"
     ]
    },
    {
     "name": "stdout",
     "output_type": "stream",
     "text": [
      "\n",
      " Epoch No: 7\n",
      "Train set: Average loss: 0.0000, Accuracy: 59689/60000 (99.48%)\n",
      "Test set: Average loss: 0.0094, Accuracy:59847/60000 (99.75%)\n",
      "\n"
     ]
    },
    {
     "name": "stderr",
     "output_type": "stream",
     "text": [
      "loss=0.025746427476406097 batch_id=3749: 100%|██████████| 3750/3750 [00:27<00:00, 137.64it/s]  \n"
     ]
    },
    {
     "name": "stdout",
     "output_type": "stream",
     "text": [
      "\n",
      " Epoch No: 8\n",
      "Train set: Average loss: 0.0000, Accuracy: 59726/60000 (99.54%)\n",
      "Test set: Average loss: 0.0089, Accuracy:59858/60000 (99.76%)\n",
      "\n"
     ]
    },
    {
     "name": "stderr",
     "output_type": "stream",
     "text": [
      "loss=0.00029404566157609224 batch_id=3749: 100%|██████████| 3750/3750 [00:28<00:00, 129.58it/s]\n"
     ]
    },
    {
     "name": "stdout",
     "output_type": "stream",
     "text": [
      "\n",
      " Epoch No: 9\n",
      "Train set: Average loss: 0.0000, Accuracy: 59776/60000 (99.63%)\n",
      "Test set: Average loss: 0.0106, Accuracy:59820/60000 (99.70%)\n",
      "\n"
     ]
    }
   ],
   "source": [
    "optimizer = optim.SGD(model_2.parameters(),lr=0.01,momentum=0.9)\n",
    "\n",
    "for epoch in range(1,10):\n",
    "  train(model_2,device, train_loader, optimizer,epoch)\n",
    "  test(model_2,device, train_loader)"
   ]
  },
  {
   "cell_type": "code",
   "execution_count": 11,
   "metadata": {},
   "outputs": [],
   "source": [
    "class Net_v3(nn.Module):\n",
    "  def __init__(self):\n",
    "    super(Net_v3,self).__init__()\n",
    "    self.conv1 = nn.Conv2d(1,8,3,stride=1,padding=1) # input_size = 28, output_size = 28, RF = 3,\n",
    "    self.conv1_bn = nn.BatchNorm2d(8)\n",
    "    self.conv2 = nn.Conv2d(8,16,3,stride=1,padding=0)# input_size = 28, output_size = 26, RF = 5\n",
    "    self.conv2_bn = nn.BatchNorm2d(16)\n",
    "    self.drop1 = nn.Dropout2d(0.05)\n",
    "    self.pool1 = nn.MaxPool2d(2,2)                    # input_size = 26, output_size = 13, RF = 6\n",
    "    self.conv3 = nn.Conv2d(16,16,3,stride=1,padding=1)# input_size = 13, output_size = 13, RF = 10\n",
    "    self.conv3_bn = nn.BatchNorm2d(16)\n",
    "    self.drop2 = nn.Dropout2d(0.05)\n",
    "    self.conv4 = nn.Conv2d(16,32,3,stride=1,padding=0)# input_size = 13, output_size = 11, RF = 14\n",
    "    self.conv4_bn = nn.BatchNorm2d(32)\n",
    "    self.drop3 = nn.Dropout2d(0.05)\n",
    "    self.pool2 = nn.MaxPool2d(2,2)                      # input_size = 11, output_size = 5, RF = 16\n",
    "    self.conv5 = nn.Conv2d(32,32,3,stride=1,padding=0)# input_size = 5, output_size = 3, RF = 24\n",
    "    self.conv5_bn = nn.BatchNorm2d(32)\n",
    "    self.pool3 = nn.AdaptiveAvgPool2d((1, 1))  # reduces the spatial dimensions to 1x1\n",
    "    self.conv6 = nn.Conv2d(32,10,1)                   # input_size = 3, output_size = 1, RF = 40\n",
    "\n",
    "  def forward(self,x):\n",
    "    x = self.pool1(F.relu(self.drop1(self.conv2_bn(self.conv2(F.relu(self.conv1_bn(self.conv1(x))))))))\n",
    "    x = self.pool2(F.relu(self.drop3(self.conv4_bn(self.conv4(F.relu(self.drop2(self.conv3_bn(self.conv3(x)))))))))\n",
    "    x = self.pool3(F.relu(self.conv5_bn(self.conv5(x))))\n",
    "    x = self.conv6(x)\n",
    "    x = x.view(-1,10)\n",
    "    return F.log_softmax(x)\n"
   ]
  },
  {
   "cell_type": "code",
   "execution_count": 12,
   "metadata": {},
   "outputs": [
    {
     "name": "stdout",
     "output_type": "stream",
     "text": [
      "----------------------------------------------------------------\n",
      "        Layer (type)               Output Shape         Param #\n",
      "================================================================\n",
      "            Conv2d-1            [-1, 8, 28, 28]              80\n",
      "       BatchNorm2d-2            [-1, 8, 28, 28]              16\n",
      "            Conv2d-3           [-1, 16, 26, 26]           1,168\n",
      "       BatchNorm2d-4           [-1, 16, 26, 26]              32\n",
      "         Dropout2d-5           [-1, 16, 26, 26]               0\n",
      "         MaxPool2d-6           [-1, 16, 13, 13]               0\n",
      "            Conv2d-7           [-1, 16, 13, 13]           2,320\n",
      "       BatchNorm2d-8           [-1, 16, 13, 13]              32\n",
      "         Dropout2d-9           [-1, 16, 13, 13]               0\n",
      "           Conv2d-10           [-1, 32, 11, 11]           4,640\n",
      "      BatchNorm2d-11           [-1, 32, 11, 11]              64\n",
      "        Dropout2d-12           [-1, 32, 11, 11]               0\n",
      "        MaxPool2d-13             [-1, 32, 5, 5]               0\n",
      "           Conv2d-14             [-1, 32, 3, 3]           9,248\n",
      "      BatchNorm2d-15             [-1, 32, 3, 3]              64\n",
      "AdaptiveAvgPool2d-16             [-1, 32, 1, 1]               0\n",
      "           Conv2d-17             [-1, 10, 1, 1]             330\n",
      "================================================================\n",
      "Total params: 17,994\n",
      "Trainable params: 17,994\n",
      "Non-trainable params: 0\n",
      "----------------------------------------------------------------\n",
      "Input size (MB): 0.00\n",
      "Forward/backward pass size (MB): 0.53\n",
      "Params size (MB): 0.07\n",
      "Estimated Total Size (MB): 0.60\n",
      "----------------------------------------------------------------\n"
     ]
    },
    {
     "name": "stderr",
     "output_type": "stream",
     "text": [
      "d:\\Projects\\ERAV3\\TunningCNN\\SimpleCNN18K.py:32: UserWarning: Implicit dimension choice for log_softmax has been deprecated. Change the call to include dim=X as an argument.\n",
      "  return F.log_softmax(x)\n"
     ]
    }
   ],
   "source": [
    "model_3 = SimpleCNN18K().to(device)\n",
    "summary(model_3,input_size=(1,28,28))"
   ]
  },
  {
   "cell_type": "code",
   "execution_count": 13,
   "metadata": {},
   "outputs": [
    {
     "name": "stderr",
     "output_type": "stream",
     "text": [
      "loss=0.10214698314666748 batch_id=3749: 100%|██████████| 3750/3750 [00:32<00:00, 116.00it/s]  \n"
     ]
    },
    {
     "name": "stdout",
     "output_type": "stream",
     "text": [
      "\n",
      " Epoch No: 1\n",
      "Train set: Average loss: 0.0000, Accuracy: 57203/60000 (95.34%)\n",
      "Test set: Average loss: 0.0393, Accuracy:59279/60000 (98.80%)\n",
      "\n"
     ]
    },
    {
     "name": "stderr",
     "output_type": "stream",
     "text": [
      "loss=0.009115763939917088 batch_id=3749: 100%|██████████| 3750/3750 [00:29<00:00, 126.99it/s]  \n"
     ]
    },
    {
     "name": "stdout",
     "output_type": "stream",
     "text": [
      "\n",
      " Epoch No: 2\n",
      "Train set: Average loss: 0.0000, Accuracy: 58948/60000 (98.25%)\n",
      "Test set: Average loss: 0.0312, Accuracy:59414/60000 (99.02%)\n",
      "\n"
     ]
    },
    {
     "name": "stderr",
     "output_type": "stream",
     "text": [
      "loss=0.00018750519666355103 batch_id=3749: 100%|██████████| 3750/3750 [00:30<00:00, 122.73it/s]\n"
     ]
    },
    {
     "name": "stdout",
     "output_type": "stream",
     "text": [
      "\n",
      " Epoch No: 3\n",
      "Train set: Average loss: 0.0000, Accuracy: 59145/60000 (98.58%)\n",
      "Test set: Average loss: 0.0263, Accuracy:59496/60000 (99.16%)\n",
      "\n"
     ]
    },
    {
     "name": "stderr",
     "output_type": "stream",
     "text": [
      "loss=0.006685217842459679 batch_id=3749: 100%|██████████| 3750/3750 [00:27<00:00, 138.01it/s]  \n"
     ]
    },
    {
     "name": "stdout",
     "output_type": "stream",
     "text": [
      "\n",
      " Epoch No: 4\n",
      "Train set: Average loss: 0.0000, Accuracy: 59246/60000 (98.74%)\n",
      "Test set: Average loss: 0.0201, Accuracy:59622/60000 (99.37%)\n",
      "\n"
     ]
    },
    {
     "name": "stderr",
     "output_type": "stream",
     "text": [
      "loss=0.15588022768497467 batch_id=3749: 100%|██████████| 3750/3750 [00:29<00:00, 125.51it/s]   \n"
     ]
    },
    {
     "name": "stdout",
     "output_type": "stream",
     "text": [
      "\n",
      " Epoch No: 5\n",
      "Train set: Average loss: 0.0000, Accuracy: 59291/60000 (98.82%)\n",
      "Test set: Average loss: 0.0180, Accuracy:59663/60000 (99.44%)\n",
      "\n"
     ]
    },
    {
     "name": "stderr",
     "output_type": "stream",
     "text": [
      "loss=0.09128917008638382 batch_id=3749: 100%|██████████| 3750/3750 [00:28<00:00, 130.06it/s]   \n"
     ]
    },
    {
     "name": "stdout",
     "output_type": "stream",
     "text": [
      "\n",
      " Epoch No: 6\n",
      "Train set: Average loss: 0.0000, Accuracy: 59346/60000 (98.91%)\n",
      "Test set: Average loss: 0.0145, Accuracy:59732/60000 (99.55%)\n",
      "\n"
     ]
    },
    {
     "name": "stderr",
     "output_type": "stream",
     "text": [
      "loss=0.0032300015445798635 batch_id=3749: 100%|██████████| 3750/3750 [00:28<00:00, 132.64it/s] \n"
     ]
    },
    {
     "name": "stdout",
     "output_type": "stream",
     "text": [
      "\n",
      " Epoch No: 7\n",
      "Train set: Average loss: 0.0000, Accuracy: 59389/60000 (98.98%)\n",
      "Test set: Average loss: 0.0139, Accuracy:59747/60000 (99.58%)\n",
      "\n"
     ]
    },
    {
     "name": "stderr",
     "output_type": "stream",
     "text": [
      "loss=0.0018446489702910185 batch_id=3749: 100%|██████████| 3750/3750 [00:28<00:00, 133.10it/s] \n"
     ]
    },
    {
     "name": "stdout",
     "output_type": "stream",
     "text": [
      "\n",
      " Epoch No: 8\n",
      "Train set: Average loss: 0.0000, Accuracy: 59451/60000 (99.08%)\n",
      "Test set: Average loss: 0.0125, Accuracy:59777/60000 (99.63%)\n",
      "\n"
     ]
    },
    {
     "name": "stderr",
     "output_type": "stream",
     "text": [
      "loss=0.020221835002303123 batch_id=3749: 100%|██████████| 3750/3750 [00:28<00:00, 133.70it/s]  \n"
     ]
    },
    {
     "name": "stdout",
     "output_type": "stream",
     "text": [
      "\n",
      " Epoch No: 9\n",
      "Train set: Average loss: 0.0000, Accuracy: 59462/60000 (99.10%)\n",
      "Test set: Average loss: 0.0144, Accuracy:59735/60000 (99.56%)\n",
      "\n"
     ]
    },
    {
     "name": "stderr",
     "output_type": "stream",
     "text": [
      "loss=0.01322183571755886 batch_id=3749: 100%|██████████| 3750/3750 [00:29<00:00, 128.06it/s]   \n"
     ]
    },
    {
     "name": "stdout",
     "output_type": "stream",
     "text": [
      "\n",
      " Epoch No: 10\n",
      "Train set: Average loss: 0.0000, Accuracy: 59491/60000 (99.15%)\n",
      "Test set: Average loss: 0.0107, Accuracy:59807/60000 (99.68%)\n",
      "\n"
     ]
    }
   ],
   "source": [
    "optimizer = optim.SGD(model_3.parameters(),lr=0.01,momentum=0.9)\n",
    "\n",
    "for epoch in range(1,11):\n",
    "  train(model_3,device, train_loader, optimizer,epoch)\n",
    "  test(model_3,device, train_loader)"
   ]
  },
  {
   "cell_type": "code",
   "execution_count": null,
   "metadata": {},
   "outputs": [],
   "source": []
  }
 ],
 "metadata": {
  "kernelspec": {
   "display_name": "Python 3",
   "language": "python",
   "name": "python3"
  },
  "language_info": {
   "codemirror_mode": {
    "name": "ipython",
    "version": 3
   },
   "file_extension": ".py",
   "mimetype": "text/x-python",
   "name": "python",
   "nbconvert_exporter": "python",
   "pygments_lexer": "ipython3",
   "version": "3.11.2"
  }
 },
 "nbformat": 4,
 "nbformat_minor": 2
}
